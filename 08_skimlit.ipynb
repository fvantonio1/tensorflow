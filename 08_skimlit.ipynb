{
  "nbformat": 4,
  "nbformat_minor": 0,
  "metadata": {
    "colab": {
      "name": "08_skimlit.ipynb",
      "provenance": [],
      "collapsed_sections": [
        "QNSGyS7OtB7B",
        "cfN-OG952c8j",
        "ZfZvEfPg2e3K",
        "p6jYa4gl4SPc",
        "k3_CeoVt6Zz8",
        "867Xzug89_LZ",
        "BMItmAT3CI9P",
        "BdN8B5_2DA3Z",
        "h0w6o6SxFsRY",
        "nZHD7JZlI3Sj",
        "5AlV-x9fTdYi",
        "67JsRXaMbuQP"
      ]
    },
    "kernelspec": {
      "name": "python3",
      "display_name": "Python 3"
    },
    "language_info": {
      "name": "python"
    },
    "accelerator": "GPU"
  },
  "cells": [
    {
      "cell_type": "code",
      "execution_count": null,
      "metadata": {
        "colab": {
          "base_uri": "https://localhost:8080/"
        },
        "id": "CTyDqrNRse_r",
        "outputId": "7e232dcf-60c0-4336-8f1c-a3ca050918ad"
      },
      "outputs": [
        {
          "output_type": "stream",
          "name": "stdout",
          "text": [
            "GPU 0: Tesla T4 (UUID: GPU-e1f8ac0b-299c-269a-3153-87d3cfc8627b)\n"
          ]
        }
      ],
      "source": [
        "!nvidia-smi -L"
      ]
    },
    {
      "cell_type": "markdown",
      "source": [
        "## Get data"
      ],
      "metadata": {
        "id": "QNSGyS7OtB7B"
      }
    },
    {
      "cell_type": "code",
      "source": [
        "!git clone https://github.com/Franck-Dernoncourt/pubmed-rct.git\n",
        "!ls pubmed-rct"
      ],
      "metadata": {
        "colab": {
          "base_uri": "https://localhost:8080/"
        },
        "id": "txq3vubqtGrH",
        "outputId": "3a440960-8844-430c-90bb-7a1dd6855d08"
      },
      "execution_count": null,
      "outputs": [
        {
          "output_type": "stream",
          "name": "stdout",
          "text": [
            "fatal: destination path 'pubmed-rct' already exists and is not an empty directory.\n",
            "PubMed_200k_RCT\n",
            "PubMed_200k_RCT_numbers_replaced_with_at_sign\n",
            "PubMed_20k_RCT\n",
            "PubMed_20k_RCT_numbers_replaced_with_at_sign\n",
            "README.md\n"
          ]
        }
      ]
    },
    {
      "cell_type": "code",
      "source": [
        "!ls pubmed-rct/PubMed_20k_RCT_numbers_replaced_with_at_sign"
      ],
      "metadata": {
        "colab": {
          "base_uri": "https://localhost:8080/"
        },
        "id": "FRGyT35YtT_4",
        "outputId": "aa14a7ca-2d3d-4217-dd15-5be79df41499"
      },
      "execution_count": null,
      "outputs": [
        {
          "output_type": "stream",
          "name": "stdout",
          "text": [
            "dev.txt  test.txt  train.txt\n"
          ]
        }
      ]
    },
    {
      "cell_type": "code",
      "source": [
        "data_dir = \"pubmed-rct/PubMed_20k_RCT_numbers_replaced_with_at_sign/\""
      ],
      "metadata": {
        "id": "x59WdEAEtYmD"
      },
      "execution_count": null,
      "outputs": []
    },
    {
      "cell_type": "code",
      "source": [
        "import os \n",
        "filenames = [data_dir + filename for filename in os.listdir(data_dir)]\n",
        "filenames"
      ],
      "metadata": {
        "colab": {
          "base_uri": "https://localhost:8080/"
        },
        "id": "Q8zC8Wlitd5J",
        "outputId": "1e3b3dbc-3441-4ca6-bf79-d74aa877a4b6"
      },
      "execution_count": null,
      "outputs": [
        {
          "output_type": "execute_result",
          "data": {
            "text/plain": [
              "['pubmed-rct/PubMed_20k_RCT_numbers_replaced_with_at_sign/dev.txt',\n",
              " 'pubmed-rct/PubMed_20k_RCT_numbers_replaced_with_at_sign/train.txt',\n",
              " 'pubmed-rct/PubMed_20k_RCT_numbers_replaced_with_at_sign/test.txt']"
            ]
          },
          "metadata": {},
          "execution_count": 122
        }
      ]
    },
    {
      "cell_type": "code",
      "source": [
        "def get_lines(file):\n",
        "\n",
        "  with open(file, 'r') as f:\n",
        "    return f.readlines()"
      ],
      "metadata": {
        "id": "drr_Rxsht3IM"
      },
      "execution_count": null,
      "outputs": []
    },
    {
      "cell_type": "code",
      "source": [
        "get_lines(filenames[0])[:5]"
      ],
      "metadata": {
        "colab": {
          "base_uri": "https://localhost:8080/"
        },
        "id": "DcNqIEZOuCfE",
        "outputId": "da545f17-652f-4ef8-ea21-01220b63e335"
      },
      "execution_count": null,
      "outputs": [
        {
          "output_type": "execute_result",
          "data": {
            "text/plain": [
              "['###24290286\\n',\n",
              " 'BACKGROUND\\tIgE sensitization to Aspergillus fumigatus and a positive sputum fungal culture result are common in patients with refractory asthma .\\n',\n",
              " 'BACKGROUND\\tIt is not clear whether these patients would benefit from antifungal treatment .\\n',\n",
              " 'OBJECTIVE\\tWe sought to determine whether a @-month course of voriconazole improved asthma-related outcomes in patients with asthma who are IgE sensitized to A fumigatus .\\n',\n",
              " 'METHODS\\tAsthmatic patients who were IgE sensitized to A fumigatus with a history of at least @ severe exacerbations in the previous @ months were treated for @ months with @ mg of voriconazole twice daily , followed by observation for @ months , in a double-blind , placebo-controlled , randomized design .\\n']"
            ]
          },
          "metadata": {},
          "execution_count": 124
        }
      ]
    },
    {
      "cell_type": "code",
      "source": [
        "def preprocess_text_with_line_numbers(filename):\n",
        "\n",
        "  input_lines = get_lines(filename) # get all lines from filename\n",
        "  abstract_lines = \"\" # create an empty abstract\n",
        "  abstract_samples = [] # create an empty list of abstracts\n",
        "  \n",
        "  # Loop through each line in target file\n",
        "  for line in input_lines:\n",
        "    if line.startswith(\"###\"): # check to see if line is an ID line\n",
        "      abstract_id = line\n",
        "      abstract_lines = \"\" # reset abstract string\n",
        "    elif line.isspace(): # check to see if line is a new line\n",
        "      abstract_line_split = abstract_lines.splitlines() # split abstract into separate lines\n",
        "\n",
        "      # Iterate through each line in abstract and count them at the same time\n",
        "      for abstract_line_number, abstract_line in enumerate(abstract_line_split):\n",
        "        line_data = {} # create empty dict to store data from line\n",
        "        target_text_split = abstract_line.split(\"\\t\") # split target label from text\n",
        "        line_data[\"target\"] = target_text_split[0] # get target label\n",
        "        line_data[\"text\"] = target_text_split[1].lower() # get target text and lower it\n",
        "        line_data[\"line_number\"] = abstract_line_number # what number line does the line appear in the abstract?\n",
        "        line_data[\"total_lines\"] = len(abstract_line_split) - 1 # how many total lines are in the abstract? (start from 0)\n",
        "        abstract_samples.append(line_data) # add line data to abstract samples list\n",
        "    \n",
        "    else: # if the above conditions aren't fulfilled, the line contains a labelled sentence\n",
        "      abstract_lines += line\n",
        "  \n",
        "  return abstract_samples"
      ],
      "metadata": {
        "id": "3oXXb1yBvHEU"
      },
      "execution_count": null,
      "outputs": []
    },
    {
      "cell_type": "code",
      "source": [
        "%%time\n",
        "train_samples = preprocess_text_with_line_numbers(data_dir + \"train.txt\")\n",
        "val_samples = preprocess_text_with_line_numbers(data_dir + \"dev.txt\") \n",
        "test_samples = preprocess_text_with_line_numbers(data_dir + \"test.txt\")\n",
        "len(train_samples), len(val_samples), len(test_samples)"
      ],
      "metadata": {
        "colab": {
          "base_uri": "https://localhost:8080/"
        },
        "id": "LASUABWSvX_1",
        "outputId": "330c3237-a28c-4068-d4f0-7b00203be5e9"
      },
      "execution_count": null,
      "outputs": [
        {
          "output_type": "stream",
          "name": "stdout",
          "text": [
            "CPU times: user 444 ms, sys: 146 ms, total: 590 ms\n",
            "Wall time: 626 ms\n"
          ]
        }
      ]
    },
    {
      "cell_type": "code",
      "source": [
        "len(train_samples), len(val_samples), len(test_samples)"
      ],
      "metadata": {
        "colab": {
          "base_uri": "https://localhost:8080/"
        },
        "id": "pACqDG32vjBX",
        "outputId": "dc3913c6-b7e8-418d-ec94-b948e35f6e1f"
      },
      "execution_count": null,
      "outputs": [
        {
          "output_type": "execute_result",
          "data": {
            "text/plain": [
              "(180040, 30212, 30135)"
            ]
          },
          "metadata": {},
          "execution_count": 127
        }
      ]
    },
    {
      "cell_type": "code",
      "source": [
        "train_samples[:10]"
      ],
      "metadata": {
        "colab": {
          "base_uri": "https://localhost:8080/"
        },
        "id": "ppdjGXOYvs2p",
        "outputId": "a52adc46-dee0-4fa3-dd7c-e13406cb0ccc"
      },
      "execution_count": null,
      "outputs": [
        {
          "output_type": "execute_result",
          "data": {
            "text/plain": [
              "[{'line_number': 0,\n",
              "  'target': 'OBJECTIVE',\n",
              "  'text': 'to investigate the efficacy of @ weeks of daily low-dose oral prednisolone in improving pain , mobility , and systemic low-grade inflammation in the short term and whether the effect would be sustained at @ weeks in older adults with moderate to severe knee osteoarthritis ( oa ) .',\n",
              "  'total_lines': 11},\n",
              " {'line_number': 1,\n",
              "  'target': 'METHODS',\n",
              "  'text': 'a total of @ patients with primary knee oa were randomized @:@ ; @ received @ mg/day of prednisolone and @ received placebo for @ weeks .',\n",
              "  'total_lines': 11},\n",
              " {'line_number': 2,\n",
              "  'target': 'METHODS',\n",
              "  'text': 'outcome measures included pain reduction and improvement in function scores and systemic inflammation markers .',\n",
              "  'total_lines': 11},\n",
              " {'line_number': 3,\n",
              "  'target': 'METHODS',\n",
              "  'text': 'pain was assessed using the visual analog pain scale ( @-@ mm ) .',\n",
              "  'total_lines': 11},\n",
              " {'line_number': 4,\n",
              "  'target': 'METHODS',\n",
              "  'text': 'secondary outcome measures included the western ontario and mcmaster universities osteoarthritis index scores , patient global assessment ( pga ) of the severity of knee oa , and @-min walk distance ( @mwd ) .',\n",
              "  'total_lines': 11},\n",
              " {'line_number': 5,\n",
              "  'target': 'METHODS',\n",
              "  'text': 'serum levels of interleukin @ ( il-@ ) , il-@ , tumor necrosis factor ( tnf ) - , and high-sensitivity c-reactive protein ( hscrp ) were measured .',\n",
              "  'total_lines': 11},\n",
              " {'line_number': 6,\n",
              "  'target': 'RESULTS',\n",
              "  'text': 'there was a clinically relevant reduction in the intervention group compared to the placebo group for knee pain , physical function , pga , and @mwd at @ weeks .',\n",
              "  'total_lines': 11},\n",
              " {'line_number': 7,\n",
              "  'target': 'RESULTS',\n",
              "  'text': 'the mean difference between treatment arms ( @ % ci ) was @ ( @-@ @ ) , p < @ ; @ ( @-@ @ ) , p < @ ; @ ( @-@ @ ) , p < @ ; and @ ( @-@ @ ) , p < @ , respectively .',\n",
              "  'total_lines': 11},\n",
              " {'line_number': 8,\n",
              "  'target': 'RESULTS',\n",
              "  'text': 'further , there was a clinically relevant reduction in the serum levels of il-@ , il-@ , tnf - , and hscrp at @ weeks in the intervention group when compared to the placebo group .',\n",
              "  'total_lines': 11},\n",
              " {'line_number': 9,\n",
              "  'target': 'RESULTS',\n",
              "  'text': 'these differences remained significant at @ weeks .',\n",
              "  'total_lines': 11}]"
            ]
          },
          "metadata": {},
          "execution_count": 128
        }
      ]
    },
    {
      "cell_type": "code",
      "source": [
        "test_samples[:4]"
      ],
      "metadata": {
        "colab": {
          "base_uri": "https://localhost:8080/"
        },
        "id": "PrFNnygjvyzo",
        "outputId": "f44a5aef-a185-4076-c125-984fb96cec99"
      },
      "execution_count": null,
      "outputs": [
        {
          "output_type": "execute_result",
          "data": {
            "text/plain": [
              "[{'line_number': 0,\n",
              "  'target': 'BACKGROUND',\n",
              "  'text': 'this study analyzed liver function abnormalities in heart failure patients admitted with severe acute decompensated heart failure ( adhf ) .',\n",
              "  'total_lines': 8},\n",
              " {'line_number': 1,\n",
              "  'target': 'RESULTS',\n",
              "  'text': 'a post hoc analysis was conducted with the use of data from the evaluation study of congestive heart failure and pulmonary artery catheterization effectiveness ( escape ) .',\n",
              "  'total_lines': 8},\n",
              " {'line_number': 2,\n",
              "  'target': 'RESULTS',\n",
              "  'text': 'liver function tests ( lfts ) were measured at @ time points from baseline , at discharge , and up to @ months follow-up .',\n",
              "  'total_lines': 8},\n",
              " {'line_number': 3,\n",
              "  'target': 'RESULTS',\n",
              "  'text': 'survival analyses were used to assess the association between admission model of end-stage liver disease excluding international normalized ratio ( meld-xi ) scores and patient outcome.there was a high prevalence of abnormal baseline ( admission ) lfts ( albumin @ % , aspartate transaminase @ % , alanine transaminase @ % , and total bilirubin @ % ) .',\n",
              "  'total_lines': 8}]"
            ]
          },
          "metadata": {},
          "execution_count": 129
        }
      ]
    },
    {
      "cell_type": "code",
      "source": [
        "import pandas as pd\n",
        "train_df = pd.DataFrame(train_samples)\n",
        "val_df = pd.DataFrame(val_samples)\n",
        "test_df = pd.DataFrame(test_samples)"
      ],
      "metadata": {
        "id": "hO11noPWv9zJ"
      },
      "execution_count": null,
      "outputs": []
    },
    {
      "cell_type": "code",
      "source": [
        "train_df.head(14)"
      ],
      "metadata": {
        "colab": {
          "base_uri": "https://localhost:8080/"
        },
        "id": "KVdzwgF7v_MC",
        "outputId": "0873e5d0-7d89-42df-901c-6d88798abe84"
      },
      "execution_count": null,
      "outputs": [
        {
          "output_type": "execute_result",
          "data": {
            "text/plain": [
              "         target                                               text  \\\n",
              "0     OBJECTIVE  to investigate the efficacy of @ weeks of dail...   \n",
              "1       METHODS  a total of @ patients with primary knee oa wer...   \n",
              "2       METHODS  outcome measures included pain reduction and i...   \n",
              "3       METHODS  pain was assessed using the visual analog pain...   \n",
              "4       METHODS  secondary outcome measures included the wester...   \n",
              "5       METHODS  serum levels of interleukin @ ( il-@ ) , il-@ ...   \n",
              "6       RESULTS  there was a clinically relevant reduction in t...   \n",
              "7       RESULTS  the mean difference between treatment arms ( @...   \n",
              "8       RESULTS  further , there was a clinically relevant redu...   \n",
              "9       RESULTS  these differences remained significant at @ we...   \n",
              "10      RESULTS  the outcome measures in rheumatology clinical ...   \n",
              "11  CONCLUSIONS  low-dose oral prednisolone had both a short-te...   \n",
              "12   BACKGROUND  emotional eating is associated with overeating...   \n",
              "13   BACKGROUND  yet , empirical evidence for individual ( trai...   \n",
              "\n",
              "    line_number  total_lines  \n",
              "0             0           11  \n",
              "1             1           11  \n",
              "2             2           11  \n",
              "3             3           11  \n",
              "4             4           11  \n",
              "5             5           11  \n",
              "6             6           11  \n",
              "7             7           11  \n",
              "8             8           11  \n",
              "9             9           11  \n",
              "10           10           11  \n",
              "11           11           11  \n",
              "12            0           10  \n",
              "13            1           10  "
            ],
            "text/html": [
              "\n",
              "  <div id=\"df-fea673ed-6b8e-490b-8e10-4dd83f7f4534\">\n",
              "    <div class=\"colab-df-container\">\n",
              "      <div>\n",
              "<style scoped>\n",
              "    .dataframe tbody tr th:only-of-type {\n",
              "        vertical-align: middle;\n",
              "    }\n",
              "\n",
              "    .dataframe tbody tr th {\n",
              "        vertical-align: top;\n",
              "    }\n",
              "\n",
              "    .dataframe thead th {\n",
              "        text-align: right;\n",
              "    }\n",
              "</style>\n",
              "<table border=\"1\" class=\"dataframe\">\n",
              "  <thead>\n",
              "    <tr style=\"text-align: right;\">\n",
              "      <th></th>\n",
              "      <th>target</th>\n",
              "      <th>text</th>\n",
              "      <th>line_number</th>\n",
              "      <th>total_lines</th>\n",
              "    </tr>\n",
              "  </thead>\n",
              "  <tbody>\n",
              "    <tr>\n",
              "      <th>0</th>\n",
              "      <td>OBJECTIVE</td>\n",
              "      <td>to investigate the efficacy of @ weeks of dail...</td>\n",
              "      <td>0</td>\n",
              "      <td>11</td>\n",
              "    </tr>\n",
              "    <tr>\n",
              "      <th>1</th>\n",
              "      <td>METHODS</td>\n",
              "      <td>a total of @ patients with primary knee oa wer...</td>\n",
              "      <td>1</td>\n",
              "      <td>11</td>\n",
              "    </tr>\n",
              "    <tr>\n",
              "      <th>2</th>\n",
              "      <td>METHODS</td>\n",
              "      <td>outcome measures included pain reduction and i...</td>\n",
              "      <td>2</td>\n",
              "      <td>11</td>\n",
              "    </tr>\n",
              "    <tr>\n",
              "      <th>3</th>\n",
              "      <td>METHODS</td>\n",
              "      <td>pain was assessed using the visual analog pain...</td>\n",
              "      <td>3</td>\n",
              "      <td>11</td>\n",
              "    </tr>\n",
              "    <tr>\n",
              "      <th>4</th>\n",
              "      <td>METHODS</td>\n",
              "      <td>secondary outcome measures included the wester...</td>\n",
              "      <td>4</td>\n",
              "      <td>11</td>\n",
              "    </tr>\n",
              "    <tr>\n",
              "      <th>5</th>\n",
              "      <td>METHODS</td>\n",
              "      <td>serum levels of interleukin @ ( il-@ ) , il-@ ...</td>\n",
              "      <td>5</td>\n",
              "      <td>11</td>\n",
              "    </tr>\n",
              "    <tr>\n",
              "      <th>6</th>\n",
              "      <td>RESULTS</td>\n",
              "      <td>there was a clinically relevant reduction in t...</td>\n",
              "      <td>6</td>\n",
              "      <td>11</td>\n",
              "    </tr>\n",
              "    <tr>\n",
              "      <th>7</th>\n",
              "      <td>RESULTS</td>\n",
              "      <td>the mean difference between treatment arms ( @...</td>\n",
              "      <td>7</td>\n",
              "      <td>11</td>\n",
              "    </tr>\n",
              "    <tr>\n",
              "      <th>8</th>\n",
              "      <td>RESULTS</td>\n",
              "      <td>further , there was a clinically relevant redu...</td>\n",
              "      <td>8</td>\n",
              "      <td>11</td>\n",
              "    </tr>\n",
              "    <tr>\n",
              "      <th>9</th>\n",
              "      <td>RESULTS</td>\n",
              "      <td>these differences remained significant at @ we...</td>\n",
              "      <td>9</td>\n",
              "      <td>11</td>\n",
              "    </tr>\n",
              "    <tr>\n",
              "      <th>10</th>\n",
              "      <td>RESULTS</td>\n",
              "      <td>the outcome measures in rheumatology clinical ...</td>\n",
              "      <td>10</td>\n",
              "      <td>11</td>\n",
              "    </tr>\n",
              "    <tr>\n",
              "      <th>11</th>\n",
              "      <td>CONCLUSIONS</td>\n",
              "      <td>low-dose oral prednisolone had both a short-te...</td>\n",
              "      <td>11</td>\n",
              "      <td>11</td>\n",
              "    </tr>\n",
              "    <tr>\n",
              "      <th>12</th>\n",
              "      <td>BACKGROUND</td>\n",
              "      <td>emotional eating is associated with overeating...</td>\n",
              "      <td>0</td>\n",
              "      <td>10</td>\n",
              "    </tr>\n",
              "    <tr>\n",
              "      <th>13</th>\n",
              "      <td>BACKGROUND</td>\n",
              "      <td>yet , empirical evidence for individual ( trai...</td>\n",
              "      <td>1</td>\n",
              "      <td>10</td>\n",
              "    </tr>\n",
              "  </tbody>\n",
              "</table>\n",
              "</div>\n",
              "      <button class=\"colab-df-convert\" onclick=\"convertToInteractive('df-fea673ed-6b8e-490b-8e10-4dd83f7f4534')\"\n",
              "              title=\"Convert this dataframe to an interactive table.\"\n",
              "              style=\"display:none;\">\n",
              "        \n",
              "  <svg xmlns=\"http://www.w3.org/2000/svg\" height=\"24px\"viewBox=\"0 0 24 24\"\n",
              "       width=\"24px\">\n",
              "    <path d=\"M0 0h24v24H0V0z\" fill=\"none\"/>\n",
              "    <path d=\"M18.56 5.44l.94 2.06.94-2.06 2.06-.94-2.06-.94-.94-2.06-.94 2.06-2.06.94zm-11 1L8.5 8.5l.94-2.06 2.06-.94-2.06-.94L8.5 2.5l-.94 2.06-2.06.94zm10 10l.94 2.06.94-2.06 2.06-.94-2.06-.94-.94-2.06-.94 2.06-2.06.94z\"/><path d=\"M17.41 7.96l-1.37-1.37c-.4-.4-.92-.59-1.43-.59-.52 0-1.04.2-1.43.59L10.3 9.45l-7.72 7.72c-.78.78-.78 2.05 0 2.83L4 21.41c.39.39.9.59 1.41.59.51 0 1.02-.2 1.41-.59l7.78-7.78 2.81-2.81c.8-.78.8-2.07 0-2.86zM5.41 20L4 18.59l7.72-7.72 1.47 1.35L5.41 20z\"/>\n",
              "  </svg>\n",
              "      </button>\n",
              "      \n",
              "  <style>\n",
              "    .colab-df-container {\n",
              "      display:flex;\n",
              "      flex-wrap:wrap;\n",
              "      gap: 12px;\n",
              "    }\n",
              "\n",
              "    .colab-df-convert {\n",
              "      background-color: #E8F0FE;\n",
              "      border: none;\n",
              "      border-radius: 50%;\n",
              "      cursor: pointer;\n",
              "      display: none;\n",
              "      fill: #1967D2;\n",
              "      height: 32px;\n",
              "      padding: 0 0 0 0;\n",
              "      width: 32px;\n",
              "    }\n",
              "\n",
              "    .colab-df-convert:hover {\n",
              "      background-color: #E2EBFA;\n",
              "      box-shadow: 0px 1px 2px rgba(60, 64, 67, 0.3), 0px 1px 3px 1px rgba(60, 64, 67, 0.15);\n",
              "      fill: #174EA6;\n",
              "    }\n",
              "\n",
              "    [theme=dark] .colab-df-convert {\n",
              "      background-color: #3B4455;\n",
              "      fill: #D2E3FC;\n",
              "    }\n",
              "\n",
              "    [theme=dark] .colab-df-convert:hover {\n",
              "      background-color: #434B5C;\n",
              "      box-shadow: 0px 1px 3px 1px rgba(0, 0, 0, 0.15);\n",
              "      filter: drop-shadow(0px 1px 2px rgba(0, 0, 0, 0.3));\n",
              "      fill: #FFFFFF;\n",
              "    }\n",
              "  </style>\n",
              "\n",
              "      <script>\n",
              "        const buttonEl =\n",
              "          document.querySelector('#df-fea673ed-6b8e-490b-8e10-4dd83f7f4534 button.colab-df-convert');\n",
              "        buttonEl.style.display =\n",
              "          google.colab.kernel.accessAllowed ? 'block' : 'none';\n",
              "\n",
              "        async function convertToInteractive(key) {\n",
              "          const element = document.querySelector('#df-fea673ed-6b8e-490b-8e10-4dd83f7f4534');\n",
              "          const dataTable =\n",
              "            await google.colab.kernel.invokeFunction('convertToInteractive',\n",
              "                                                     [key], {});\n",
              "          if (!dataTable) return;\n",
              "\n",
              "          const docLinkHtml = 'Like what you see? Visit the ' +\n",
              "            '<a target=\"_blank\" href=https://colab.research.google.com/notebooks/data_table.ipynb>data table notebook</a>'\n",
              "            + ' to learn more about interactive tables.';\n",
              "          element.innerHTML = '';\n",
              "          dataTable['output_type'] = 'display_data';\n",
              "          await google.colab.output.renderOutput(dataTable, element);\n",
              "          const docLink = document.createElement('div');\n",
              "          docLink.innerHTML = docLinkHtml;\n",
              "          element.appendChild(docLink);\n",
              "        }\n",
              "      </script>\n",
              "    </div>\n",
              "  </div>\n",
              "  "
            ]
          },
          "metadata": {},
          "execution_count": 131
        }
      ]
    },
    {
      "cell_type": "code",
      "source": [
        "train_df['target'].value_counts()"
      ],
      "metadata": {
        "colab": {
          "base_uri": "https://localhost:8080/"
        },
        "id": "E_54xxgswJHs",
        "outputId": "d7b9afe0-9db0-4efe-f355-c3a4fb0f5d6e"
      },
      "execution_count": null,
      "outputs": [
        {
          "output_type": "execute_result",
          "data": {
            "text/plain": [
              "METHODS        59353\n",
              "RESULTS        57953\n",
              "CONCLUSIONS    27168\n",
              "BACKGROUND     21727\n",
              "OBJECTIVE      13839\n",
              "Name: target, dtype: int64"
            ]
          },
          "metadata": {},
          "execution_count": 132
        }
      ]
    },
    {
      "cell_type": "code",
      "source": [
        "train_df['total_lines'].plot.hist()"
      ],
      "metadata": {
        "colab": {
          "base_uri": "https://localhost:8080/"
        },
        "id": "8iIxfIDhwVT7",
        "outputId": "579ae7f6-f234-40e9-89cb-e64e14c1f1e0"
      },
      "execution_count": null,
      "outputs": [
        {
          "output_type": "execute_result",
          "data": {
            "text/plain": [
              "<matplotlib.axes._subplots.AxesSubplot at 0x7f27b93acad0>"
            ]
          },
          "metadata": {},
          "execution_count": 133
        },
        {
          "output_type": "display_data",
          "data": {
            "text/plain": [
              "<Figure size 432x288 with 1 Axes>"
            ],
            "image/png": "[encoded data removed]"
          },
          "metadata": {
            "needs_background": "light"
          }
        }
      ]
    },
    {
      "cell_type": "markdown",
      "source": [
        "### Get list of sentences"
      ],
      "metadata": {
        "id": "K89hslY3wiPV"
      }
    },
    {
      "cell_type": "code",
      "source": [
        "train_sentences = train_df[\"text\"].tolist()\n",
        "val_sentences = val_df[\"text\"].tolist()\n",
        "test_sentences = test_df[\"text\"].tolist()\n",
        "len(train_sentences), len(val_sentences), len(test_sentences)"
      ],
      "metadata": {
        "colab": {
          "base_uri": "https://localhost:8080/"
        },
        "id": "4tJN3z64wj_0",
        "outputId": "7950a791-482a-4489-abf6-c6d6f62dcefa"
      },
      "execution_count": null,
      "outputs": [
        {
          "output_type": "execute_result",
          "data": {
            "text/plain": [
              "(180040, 30212, 30135)"
            ]
          },
          "metadata": {},
          "execution_count": 134
        }
      ]
    },
    {
      "cell_type": "code",
      "source": [
        "train_sentences[:10]"
      ],
      "metadata": {
        "colab": {
          "base_uri": "https://localhost:8080/"
        },
        "id": "-9mKhvo7wyrt",
        "outputId": "2932787d-f2c5-44fe-9b84-5c58910fe1af"
      },
      "execution_count": null,
      "outputs": [
        {
          "output_type": "execute_result",
          "data": {
            "text/plain": [
              "['to investigate the efficacy of @ weeks of daily low-dose oral prednisolone in improving pain , mobility , and systemic low-grade inflammation in the short term and whether the effect would be sustained at @ weeks in older adults with moderate to severe knee osteoarthritis ( oa ) .',\n",
              " 'a total of @ patients with primary knee oa were randomized @:@ ; @ received @ mg/day of prednisolone and @ received placebo for @ weeks .',\n",
              " 'outcome measures included pain reduction and improvement in function scores and systemic inflammation markers .',\n",
              " 'pain was assessed using the visual analog pain scale ( @-@ mm ) .',\n",
              " 'secondary outcome measures included the western ontario and mcmaster universities osteoarthritis index scores , patient global assessment ( pga ) of the severity of knee oa , and @-min walk distance ( @mwd ) .',\n",
              " 'serum levels of interleukin @ ( il-@ ) , il-@ , tumor necrosis factor ( tnf ) - , and high-sensitivity c-reactive protein ( hscrp ) were measured .',\n",
              " 'there was a clinically relevant reduction in the intervention group compared to the placebo group for knee pain , physical function , pga , and @mwd at @ weeks .',\n",
              " 'the mean difference between treatment arms ( @ % ci ) was @ ( @-@ @ ) , p < @ ; @ ( @-@ @ ) , p < @ ; @ ( @-@ @ ) , p < @ ; and @ ( @-@ @ ) , p < @ , respectively .',\n",
              " 'further , there was a clinically relevant reduction in the serum levels of il-@ , il-@ , tnf - , and hscrp at @ weeks in the intervention group when compared to the placebo group .',\n",
              " 'these differences remained significant at @ weeks .']"
            ]
          },
          "metadata": {},
          "execution_count": 135
        }
      ]
    },
    {
      "cell_type": "markdown",
      "source": [
        "### Make numerics label"
      ],
      "metadata": {
        "id": "HYbZbP_Oz-jZ"
      }
    },
    {
      "cell_type": "code",
      "source": [
        "from sklearn.preprocessing import OneHotEncoder\n",
        "one_hot_encoder = OneHotEncoder(sparse=False)\n",
        "train_labels_one_hot = one_hot_encoder.fit_transform(train_df[\"target\"].to_numpy().reshape(-1, 1))\n",
        "val_labels_one_hot = one_hot_encoder.transform(val_df[\"target\"].to_numpy().reshape(-1, 1))\n",
        "test_labels_one_hot = one_hot_encoder.transform(test_df[\"target\"].to_numpy().reshape(-1, 1))\n",
        "\n",
        "train_labels_one_hot"
      ],
      "metadata": {
        "colab": {
          "base_uri": "https://localhost:8080/"
        },
        "id": "qmeYqi-z0Fq4",
        "outputId": "4ea1d44c-083e-4ce2-ac77-a1d3c6d1cf1f"
      },
      "execution_count": null,
      "outputs": [
        {
          "output_type": "execute_result",
          "data": {
            "text/plain": [
              "array([[0., 0., 0., 1., 0.],\n",
              "       [0., 0., 1., 0., 0.],\n",
              "       [0., 0., 1., 0., 0.],\n",
              "       ...,\n",
              "       [0., 0., 0., 0., 1.],\n",
              "       [0., 1., 0., 0., 0.],\n",
              "       [0., 1., 0., 0., 0.]])"
            ]
          },
          "metadata": {},
          "execution_count": 136
        }
      ]
    },
    {
      "cell_type": "code",
      "source": [
        "from sklearn.preprocessing import LabelEncoder\n",
        "label_encoder = LabelEncoder()\n",
        "train_labels_encoded = label_encoder.fit_transform(train_df[\"target\"].to_numpy())\n",
        "val_labels_encoded = label_encoder.transform(val_df[\"target\"].to_numpy())\n",
        "test_labels_encoded = label_encoder.transform(test_df[\"target\"].to_numpy())\n",
        "\n",
        "train_labels_encoded"
      ],
      "metadata": {
        "colab": {
          "base_uri": "https://localhost:8080/"
        },
        "id": "U25n8XMBCV4k",
        "outputId": "48d8edad-8957-4719-9168-4bdb63ce6b66"
      },
      "execution_count": null,
      "outputs": [
        {
          "output_type": "execute_result",
          "data": {
            "text/plain": [
              "array([3, 2, 2, ..., 4, 1, 1])"
            ]
          },
          "metadata": {},
          "execution_count": 137
        }
      ]
    },
    {
      "cell_type": "code",
      "source": [
        "num_classes = len(label_encoder.classes_)\n",
        "class_names = label_encoder.classes_\n",
        "num_classes, class_names"
      ],
      "metadata": {
        "colab": {
          "base_uri": "https://localhost:8080/"
        },
        "id": "Q4kgYrZMCcf2",
        "outputId": "86834db8-7c42-4126-b37a-b6f4038ecf21"
      },
      "execution_count": null,
      "outputs": [
        {
          "output_type": "execute_result",
          "data": {
            "text/plain": [
              "(5, array(['BACKGROUND', 'CONCLUSIONS', 'METHODS', 'OBJECTIVE', 'RESULTS'],\n",
              "       dtype=object))"
            ]
          },
          "metadata": {},
          "execution_count": 138
        }
      ]
    },
    {
      "cell_type": "markdown",
      "source": [
        "## Creating models\n"
      ],
      "metadata": {
        "id": "cfN-OG952c8j"
      }
    },
    {
      "cell_type": "code",
      "source": [
        "train_sentences[:10]"
      ],
      "metadata": {
        "colab": {
          "base_uri": "https://localhost:8080/"
        },
        "id": "dmoMt3Sr3IUs",
        "outputId": "2c980962-2a2a-4455-e8fa-6c0f8bee1b20"
      },
      "execution_count": null,
      "outputs": [
        {
          "output_type": "execute_result",
          "data": {
            "text/plain": [
              "['to investigate the efficacy of @ weeks of daily low-dose oral prednisolone in improving pain , mobility , and systemic low-grade inflammation in the short term and whether the effect would be sustained at @ weeks in older adults with moderate to severe knee osteoarthritis ( oa ) .',\n",
              " 'a total of @ patients with primary knee oa were randomized @:@ ; @ received @ mg/day of prednisolone and @ received placebo for @ weeks .',\n",
              " 'outcome measures included pain reduction and improvement in function scores and systemic inflammation markers .',\n",
              " 'pain was assessed using the visual analog pain scale ( @-@ mm ) .',\n",
              " 'secondary outcome measures included the western ontario and mcmaster universities osteoarthritis index scores , patient global assessment ( pga ) of the severity of knee oa , and @-min walk distance ( @mwd ) .',\n",
              " 'serum levels of interleukin @ ( il-@ ) , il-@ , tumor necrosis factor ( tnf ) - , and high-sensitivity c-reactive protein ( hscrp ) were measured .',\n",
              " 'there was a clinically relevant reduction in the intervention group compared to the placebo group for knee pain , physical function , pga , and @mwd at @ weeks .',\n",
              " 'the mean difference between treatment arms ( @ % ci ) was @ ( @-@ @ ) , p < @ ; @ ( @-@ @ ) , p < @ ; @ ( @-@ @ ) , p < @ ; and @ ( @-@ @ ) , p < @ , respectively .',\n",
              " 'further , there was a clinically relevant reduction in the serum levels of il-@ , il-@ , tnf - , and hscrp at @ weeks in the intervention group when compared to the placebo group .',\n",
              " 'these differences remained significant at @ weeks .']"
            ]
          },
          "metadata": {},
          "execution_count": 139
        }
      ]
    },
    {
      "cell_type": "markdown",
      "source": [
        "### Model 0"
      ],
      "metadata": {
        "id": "ZfZvEfPg2e3K"
      }
    },
    {
      "cell_type": "code",
      "source": [
        "from sklearn.feature_extraction.text import TfidfVectorizer\n",
        "from sklearn.naive_bayes import MultinomialNB\n",
        "from sklearn.pipeline import Pipeline\n",
        "\n",
        "model_0 = Pipeline([\n",
        "    ('tf-idf', TfidfVectorizer()),\n",
        "    ('clf', MultinomialNB())\n",
        "])\n",
        "\n",
        "model_0.fit(X=train_sentences,\n",
        "            y=train_labels_encoded)"
      ],
      "metadata": {
        "colab": {
          "base_uri": "https://localhost:8080/"
        },
        "id": "OaAz9WaQ2gx6",
        "outputId": "b19be356-1d99-4a52-da62-ebe5205ac0a9"
      },
      "execution_count": null,
      "outputs": [
        {
          "output_type": "execute_result",
          "data": {
            "text/plain": [
              "Pipeline(steps=[('tf-idf', TfidfVectorizer()), ('clf', MultinomialNB())])"
            ]
          },
          "metadata": {},
          "execution_count": 140
        }
      ]
    },
    {
      "cell_type": "code",
      "source": [
        "model_0.score(test_sentences, test_labels_encoded), model_0.score(val_sentences, val_labels_encoded)"
      ],
      "metadata": {
        "colab": {
          "base_uri": "https://localhost:8080/"
        },
        "id": "Sum6ogb73j8a",
        "outputId": "cd7d19f8-04dd-4d2b-d282-71b18475e4f0"
      },
      "execution_count": null,
      "outputs": [
        {
          "output_type": "execute_result",
          "data": {
            "text/plain": [
              "(0.716674962667994, 0.7218323844829869)"
            ]
          },
          "metadata": {},
          "execution_count": 141
        }
      ]
    },
    {
      "cell_type": "code",
      "source": [
        "baseline_preds = model_0.predict(val_sentences)\n",
        "baseline_preds"
      ],
      "metadata": {
        "colab": {
          "base_uri": "https://localhost:8080/"
        },
        "id": "hfUcFhtE32tM",
        "outputId": "365f7a1c-8190-4cca-c256-e463f315f02b"
      },
      "execution_count": null,
      "outputs": [
        {
          "output_type": "execute_result",
          "data": {
            "text/plain": [
              "array([4, 1, 3, ..., 4, 4, 1])"
            ]
          },
          "metadata": {},
          "execution_count": 142
        }
      ]
    },
    {
      "cell_type": "code",
      "source": [
        "!wget https://raw.githubusercontent.com/mrdbourke/tensorflow-deep-learning/main/extras/helper_functions.py"
      ],
      "metadata": {
        "colab": {
          "base_uri": "https://localhost:8080/"
        },
        "id": "BpIpXrYv4AWM",
        "outputId": "d8cf3b7e-7ee8-4f3c-ca3f-f64fd6c738b5"
      },
      "execution_count": null,
      "outputs": [
        {
          "output_type": "stream",
          "name": "stdout",
          "text": [
            "--2022-03-25 14:56:32--  https://raw.githubusercontent.com/mrdbourke/tensorflow-deep-learning/main/extras/helper_functions.py\n",
            "Resolving raw.githubusercontent.com (raw.githubusercontent.com)... 185.199.111.133, 185.199.109.133, 185.199.108.133, ...\n",
            "Connecting to raw.githubusercontent.com (raw.githubusercontent.com)|185.199.111.133|:443... connected.\n",
            "HTTP request sent, awaiting response... 200 OK\n",
            "Length: 10246 (10K) [text/plain]\n",
            "Saving to: ‘helper_functions.py.1’\n",
            "\n",
            "\rhelper_functions.py   0%[                    ]       0  --.-KB/s               \rhelper_functions.py 100%[===================>]  10.01K  --.-KB/s    in 0s      \n",
            "\n",
            "2022-03-25 14:56:32 (61.7 MB/s) - ‘helper_functions.py.1’ saved [10246/10246]\n",
            "\n"
          ]
        }
      ]
    },
    {
      "cell_type": "code",
      "source": [
        "from helper_functions import calculate_results\n",
        "\n",
        "baseline_results = calculate_results(val_labels_encoded, baseline_preds)\n",
        "baseline_results"
      ],
      "metadata": {
        "colab": {
          "base_uri": "https://localhost:8080/"
        },
        "id": "kSZasykG4BVi",
        "outputId": "51cb9795-7cec-48df-e7fa-2ce94d92a1ba"
      },
      "execution_count": null,
      "outputs": [
        {
          "output_type": "execute_result",
          "data": {
            "text/plain": [
              "{'accuracy': 72.1832384482987,\n",
              " 'f1': 0.6989250353450294,\n",
              " 'precision': 0.7186466952323352,\n",
              " 'recall': 0.7218323844829869}"
            ]
          },
          "metadata": {},
          "execution_count": 144
        }
      ]
    },
    {
      "cell_type": "markdown",
      "source": [
        "### Prepare data for deeper models"
      ],
      "metadata": {
        "id": "p6jYa4gl4SPc"
      }
    },
    {
      "cell_type": "code",
      "source": [
        "import numpy as np\n",
        "import tensorflow as tf\n",
        "from tensorflow.keras import layers\n",
        "\n",
        "sent_lens = [len(sentence.split()) for sentence in train_sentences]\n",
        "avg_sent_len = np.mean(sent_lens)\n",
        "avg_sent_len"
      ],
      "metadata": {
        "colab": {
          "base_uri": "https://localhost:8080/"
        },
        "id": "WtoQRfED4VPp",
        "outputId": "b232c0f5-61d2-4261-fadf-5c2deedb6a03"
      },
      "execution_count": null,
      "outputs": [
        {
          "output_type": "execute_result",
          "data": {
            "text/plain": [
              "26.338269273494777"
            ]
          },
          "metadata": {},
          "execution_count": 145
        }
      ]
    },
    {
      "cell_type": "code",
      "source": [
        "import matplotlib.pyplot as plt\n",
        "\n",
        "plt.hist(sent_lens, bins=7);"
      ],
      "metadata": {
        "colab": {
          "base_uri": "https://localhost:8080/",
          "height": 265
        },
        "id": "mv2P4zpD5Cu0",
        "outputId": "88b0217a-5bae-4361-c9ee-3b3b9d244370"
      },
      "execution_count": null,
      "outputs": [
        {
          "output_type": "display_data",
          "data": {
            "text/plain": [
              "<Figure size 432x288 with 1 Axes>"
            ],
            "image/png": "[encoded data removed]"
          },
          "metadata": {
            "needs_background": "light"
          }
        }
      ]
    },
    {
      "cell_type": "code",
      "source": [
        "output_seq_len = int(np.percentile(sent_lens, 95))\n",
        "output_seq_len"
      ],
      "metadata": {
        "colab": {
          "base_uri": "https://localhost:8080/"
        },
        "id": "Q1pu0yVc5PPc",
        "outputId": "70895272-ee46-4ca9-8c40-208388b5771a"
      },
      "execution_count": null,
      "outputs": [
        {
          "output_type": "execute_result",
          "data": {
            "text/plain": [
              "55"
            ]
          },
          "metadata": {},
          "execution_count": 147
        }
      ]
    },
    {
      "cell_type": "code",
      "source": [
        "max(sent_lens)"
      ],
      "metadata": {
        "colab": {
          "base_uri": "https://localhost:8080/"
        },
        "id": "MIebmpnp6NrF",
        "outputId": "30a82d48-37d9-46ba-e005-54ea283b0181"
      },
      "execution_count": null,
      "outputs": [
        {
          "output_type": "execute_result",
          "data": {
            "text/plain": [
              "296"
            ]
          },
          "metadata": {},
          "execution_count": 148
        }
      ]
    },
    {
      "cell_type": "markdown",
      "source": [
        "### Text Vectorizer"
      ],
      "metadata": {
        "id": "k3_CeoVt6Zz8"
      }
    },
    {
      "cell_type": "code",
      "source": [
        "from tensorflow.keras.layers.experimental.preprocessing import TextVectorization\n",
        "\n",
        "max_tokens = 68000\n",
        "\n",
        "text_vectorizer = TextVectorization(max_tokens=max_tokens,\n",
        "                                    output_sequence_length=55)\n",
        "text_vectorizer.adapt(train_sentences)"
      ],
      "metadata": {
        "id": "17XapeQr6czB"
      },
      "execution_count": null,
      "outputs": []
    },
    {
      "cell_type": "code",
      "source": [
        "import random\n",
        "\n",
        "target = random.choice(train_sentences)\n",
        "print('\\nText: ', target)\n",
        "print('\\nLength: ', len(target.split()))\n",
        "print('\\nText Vectorized: ', text_vectorizer([target]))"
      ],
      "metadata": {
        "colab": {
          "base_uri": "https://localhost:8080/"
        },
        "id": "RzWHI2De68BF",
        "outputId": "2d4ff338-b161-4528-94b0-5942a4d44b88"
      },
      "execution_count": null,
      "outputs": [
        {
          "output_type": "stream",
          "name": "stdout",
          "text": [
            "\n",
            "Text:  the acupoint catgut embedding therapy combined with acupuncture-moxibustion therapy are safe and effective in the treatment of allergic rhinitis and display the more roles in the long-term efficacy .\n",
            "\n",
            "Length:  29\n",
            "\n",
            "Text Vectorized:  tf.Tensor(\n",
            "[[   2 2434 5774 8938   66  286    7 8529   66   58  514    3  137    5\n",
            "     2   19    4 1892 2640    3 4904    2   69 5705    5    2  335   79\n",
            "     0    0    0    0    0    0    0    0    0    0    0    0    0    0\n",
            "     0    0    0    0    0    0    0    0    0    0    0    0    0]], shape=(1, 55), dtype=int64)\n"
          ]
        }
      ]
    },
    {
      "cell_type": "code",
      "source": [
        "rct_20k_vocab = text_vectorizer.get_vocabulary()\n",
        "print('Numbers of words in vocab:', len(rct_20k_vocab))\n",
        "print('Most common words:', rct_20k_vocab[:5])\n",
        "print('Least common words:', rct_20k_vocab[-5:])"
      ],
      "metadata": {
        "colab": {
          "base_uri": "https://localhost:8080/"
        },
        "id": "bFv8ohdb9X7R",
        "outputId": "c975ec5e-c762-4463-89b1-c7f770b1648c"
      },
      "execution_count": null,
      "outputs": [
        {
          "output_type": "stream",
          "name": "stdout",
          "text": [
            "Numbers of words in vocab: 64841\n",
            "Most common words: ['', '[UNK]', 'the', 'and', 'of']\n",
            "Least common words: ['aainduced', 'aaigroup', 'aachener', 'aachen', 'aaacp']\n"
          ]
        }
      ]
    },
    {
      "cell_type": "code",
      "source": [
        "text_vectorizer.get_config()"
      ],
      "metadata": {
        "colab": {
          "base_uri": "https://localhost:8080/"
        },
        "id": "4xL2s4me9y_Q",
        "outputId": "7a0b7f2d-4261-4f74-a56c-fe6e74104691"
      },
      "execution_count": null,
      "outputs": [
        {
          "output_type": "execute_result",
          "data": {
            "text/plain": [
              "{'batch_input_shape': (None,),\n",
              " 'dtype': 'string',\n",
              " 'idf_weights': None,\n",
              " 'max_tokens': 68000,\n",
              " 'name': 'text_vectorization_1',\n",
              " 'ngrams': None,\n",
              " 'output_mode': 'int',\n",
              " 'output_sequence_length': 55,\n",
              " 'pad_to_max_tokens': False,\n",
              " 'ragged': False,\n",
              " 'sparse': False,\n",
              " 'split': 'whitespace',\n",
              " 'standardize': 'lower_and_strip_punctuation',\n",
              " 'trainable': True,\n",
              " 'vocabulary': None}"
            ]
          },
          "metadata": {},
          "execution_count": 152
        }
      ]
    },
    {
      "cell_type": "markdown",
      "source": [
        "### Text embedding"
      ],
      "metadata": {
        "id": "867Xzug89_LZ"
      }
    },
    {
      "cell_type": "code",
      "source": [
        "token_embed = layers.Embedding(input_dim=len(rct_20k_vocab),\n",
        "                               output_dim=128,\n",
        "                               mask_zero=True,\n",
        "                               name='token_embedding')\n",
        "\n",
        "print('Sentence before vectorization: ', target)\n",
        "print('\\nSentence after vectorization: ', text_vectorizer([target]))\n",
        "print('\\nSentence after embedding: ', token_embed(text_vectorizer([target])))\n",
        "print('\\nShape embedding sentence: ', token_embed(text_vectorizer([target])).shape)"
      ],
      "metadata": {
        "id": "wC3h3SE499Jv",
        "colab": {
          "base_uri": "https://localhost:8080/"
        },
        "outputId": "4af0068c-3d4d-4e48-d4ef-1b4a01cb0ac8"
      },
      "execution_count": null,
      "outputs": [
        {
          "output_type": "stream",
          "name": "stdout",
          "text": [
            "Sentence before vectorization:  the acupoint catgut embedding therapy combined with acupuncture-moxibustion therapy are safe and effective in the treatment of allergic rhinitis and display the more roles in the long-term efficacy .\n",
            "\n",
            "Sentence after vectorization:  tf.Tensor(\n",
            "[[   2 2434 5774 8938   66  286    7 8529   66   58  514    3  137    5\n",
            "     2   19    4 1892 2640    3 4904    2   69 5705    5    2  335   79\n",
            "     0    0    0    0    0    0    0    0    0    0    0    0    0    0\n",
            "     0    0    0    0    0    0    0    0    0    0    0    0    0]], shape=(1, 55), dtype=int64)\n",
            "\n",
            "Sentence after embedding:  tf.Tensor(\n",
            "[[[-0.01218776 -0.00106957 -0.01530497 ... -0.01478402  0.01529384\n",
            "    0.01121485]\n",
            "  [ 0.02066093  0.01256381  0.01595763 ...  0.02474016  0.00632628\n",
            "   -0.04984793]\n",
            "  [-0.04685366 -0.01184685 -0.02263602 ... -0.00459749  0.04796512\n",
            "   -0.01421075]\n",
            "  ...\n",
            "  [-0.00483278 -0.00663254 -0.03332954 ... -0.00378459 -0.04556862\n",
            "    0.02907243]\n",
            "  [-0.00483278 -0.00663254 -0.03332954 ... -0.00378459 -0.04556862\n",
            "    0.02907243]\n",
            "  [-0.00483278 -0.00663254 -0.03332954 ... -0.00378459 -0.04556862\n",
            "    0.02907243]]], shape=(1, 55, 128), dtype=float32)\n",
            "\n",
            "Shape embedding sentence:  (1, 55, 128)\n"
          ]
        }
      ]
    },
    {
      "cell_type": "markdown",
      "source": [
        "### Create datasets"
      ],
      "metadata": {
        "id": "BMItmAT3CI9P"
      }
    },
    {
      "cell_type": "code",
      "source": [
        "train_dataset = tf.data.Dataset.from_tensor_slices((train_sentences, train_labels_one_hot))\n",
        "test_dataset = tf.data.Dataset.from_tensor_slices((test_sentences, test_labels_one_hot))\n",
        "val_dataset = tf.data.Dataset.from_tensor_slices((val_sentences, val_labels_one_hot))\n",
        "\n",
        "train_dataset = train_dataset.batch(32).prefetch(tf.data.AUTOTUNE)\n",
        "test_dataset = test_dataset.batch(32).prefetch(tf.data.AUTOTUNE)\n",
        "val_dataset = val_dataset.batch(32).prefetch(tf.data.AUTOTUNE)\n",
        "\n",
        "train_dataset"
      ],
      "metadata": {
        "colab": {
          "base_uri": "https://localhost:8080/"
        },
        "id": "O5ukub3hCKrP",
        "outputId": "734605e4-2f4b-47d6-ee01-80c196ff319d"
      },
      "execution_count": null,
      "outputs": [
        {
          "output_type": "execute_result",
          "data": {
            "text/plain": [
              "<PrefetchDataset element_spec=(TensorSpec(shape=(None,), dtype=tf.string, name=None), TensorSpec(shape=(None, 5), dtype=tf.float64, name=None))>"
            ]
          },
          "metadata": {},
          "execution_count": 154
        }
      ]
    },
    {
      "cell_type": "markdown",
      "source": [
        "### Model 1: Conv1D"
      ],
      "metadata": {
        "id": "BdN8B5_2DA3Z"
      }
    },
    {
      "cell_type": "code",
      "source": [
        "inputs = layers.Input(shape=(1,), dtype=tf.string)\n",
        "text_vectors = text_vectorizer(inputs)\n",
        "token_embedding = token_embed(text_vectors)\n",
        "x = layers.Conv1D(filters=64, kernel_size=5, padding='same', activation='relu')(token_embedding)\n",
        "x = layers.GlobalAveragePooling1D()(x)\n",
        "outputs = layers.Dense(num_classes, activation='softmax')(x)\n",
        "\n",
        "model_1 = tf.keras.Model(inputs, outputs)\n",
        "\n",
        "model_1.compile(loss='categorical_crossentropy',\n",
        "                optimizer=tf.keras.optimizers.Adam(),\n",
        "                metrics=['accuracy'])\n",
        "\n",
        "model_1.summary()"
      ],
      "metadata": {
        "colab": {
          "base_uri": "https://localhost:8080/"
        },
        "id": "Iz6m7heYC8xw",
        "outputId": "64fbc4db-6c93-467d-f7fa-f8f5c8a5fb76"
      },
      "execution_count": null,
      "outputs": [
        {
          "output_type": "stream",
          "name": "stdout",
          "text": [
            "Model: \"model_13\"\n",
            "_________________________________________________________________\n",
            " Layer (type)                Output Shape              Param #   \n",
            "=================================================================\n",
            " input_9 (InputLayer)        [(None, 1)]               0         \n",
            "                                                                 \n",
            " text_vectorization_1 (TextV  (None, 55)               0         \n",
            " ectorization)                                                   \n",
            "                                                                 \n",
            " token_embedding (Embedding)  (None, 55, 128)          8299648   \n",
            "                                                                 \n",
            " conv1d_7 (Conv1D)           (None, 55, 64)            41024     \n",
            "                                                                 \n",
            " global_average_pooling1d_7   (None, 64)               0         \n",
            " (GlobalAveragePooling1D)                                        \n",
            "                                                                 \n",
            " dense_17 (Dense)            (None, 5)                 325       \n",
            "                                                                 \n",
            "=================================================================\n",
            "Total params: 8,340,997\n",
            "Trainable params: 8,340,997\n",
            "Non-trainable params: 0\n",
            "_________________________________________________________________\n"
          ]
        }
      ]
    },
    {
      "cell_type": "code",
      "source": [
        "history_model_1 = model_1.fit(train_dataset,\n",
        "                              steps_per_epoch=int(0.1 * len(train_dataset)),\n",
        "                              epochs=3,\n",
        "                              validation_data=val_dataset,\n",
        "                              validation_steps=int(0.1 * len(val_dataset)))"
      ],
      "metadata": {
        "colab": {
          "base_uri": "https://localhost:8080/"
        },
        "id": "wgCAznFcERNy",
        "outputId": "bc35bfea-860b-4632-ca5b-85dbee7c16f4"
      },
      "execution_count": null,
      "outputs": [
        {
          "output_type": "stream",
          "name": "stdout",
          "text": [
            "Epoch 1/3\n",
            "562/562 [==============================] - 8s 12ms/step - loss: 0.9294 - accuracy: 0.6313 - val_loss: 0.6922 - val_accuracy: 0.7350\n",
            "Epoch 2/3\n",
            "562/562 [==============================] - 5s 9ms/step - loss: 0.6620 - accuracy: 0.7537 - val_loss: 0.6330 - val_accuracy: 0.7699\n",
            "Epoch 3/3\n",
            "562/562 [==============================] - 5s 8ms/step - loss: 0.6207 - accuracy: 0.7733 - val_loss: 0.5987 - val_accuracy: 0.7829\n"
          ]
        }
      ]
    },
    {
      "cell_type": "code",
      "source": [
        "model_1.evaluate(val_dataset)"
      ],
      "metadata": {
        "colab": {
          "base_uri": "https://localhost:8080/"
        },
        "id": "Zr6mcCY0E1mP",
        "outputId": "e01785c6-0892-43a4-fa2e-1d3161b2f62a"
      },
      "execution_count": null,
      "outputs": [
        {
          "output_type": "stream",
          "name": "stdout",
          "text": [
            "945/945 [==============================] - 3s 3ms/step - loss: 0.6003 - accuracy: 0.7844\n"
          ]
        },
        {
          "output_type": "execute_result",
          "data": {
            "text/plain": [
              "[0.6003310680389404, 0.7844234108924866]"
            ]
          },
          "metadata": {},
          "execution_count": 157
        }
      ]
    },
    {
      "cell_type": "code",
      "source": [
        "model_1_pred_probs = model_1.predict(val_dataset)\n",
        "model_1_preds = tf.argmax(model_1_pred_probs, axis=1)\n",
        "\n",
        "model_1_results = calculate_results(val_labels_encoded, model_1_preds)\n",
        "model_1_results"
      ],
      "metadata": {
        "colab": {
          "base_uri": "https://localhost:8080/"
        },
        "id": "mgkgR8SGE7wO",
        "outputId": "7da2f83e-04f3-4318-db47-189657d2ec3e"
      },
      "execution_count": null,
      "outputs": [
        {
          "output_type": "execute_result",
          "data": {
            "text/plain": [
              "{'accuracy': 78.44234079173839,\n",
              " 'f1': 0.7816959085656122,\n",
              " 'precision': 0.7808109911359409,\n",
              " 'recall': 0.7844234079173839}"
            ]
          },
          "metadata": {},
          "execution_count": 158
        }
      ]
    },
    {
      "cell_type": "markdown",
      "source": [
        "### Model 2: feature extraction with pre trained token embedding"
      ],
      "metadata": {
        "id": "h0w6o6SxFsRY"
      }
    },
    {
      "cell_type": "code",
      "source": [
        "import tensorflow_hub as hub\n",
        "tf_hub_embedding_layer = hub.KerasLayer(\"https://tfhub.dev/google/universal-sentence-encoder/4\",\n",
        "                                        trainable=False,\n",
        "                                        name=\"universal_sentence_encoder\")"
      ],
      "metadata": {
        "id": "upzBRXzsFy8o"
      },
      "execution_count": null,
      "outputs": []
    },
    {
      "cell_type": "code",
      "source": [
        "target = random.choice(train_sentences)\n",
        "print('Sentence: ', target)\n",
        "embedded_target = tf_hub_embedding_layer([target])\n",
        "print('Sequence after embedding: ', embedded_target)\n",
        "print('Shape of sequence embedded: ', embedded_target.shape)"
      ],
      "metadata": {
        "colab": {
          "base_uri": "https://localhost:8080/"
        },
        "id": "POr-KebAGAN4",
        "outputId": "f7a384f3-0a77-4620-f6ff-f06a36673ab2"
      },
      "execution_count": null,
      "outputs": [
        {
          "output_type": "stream",
          "name": "stdout",
          "text": [
            "Sentence:  this study aimed to determine the effect of topical lidocaine on penetration-aspiration scale ( pas ) scores and patient comfort and tolerance of flexible endoscopic evaluation of swallowing ( fees ) examinations in dysphagic patients .\n",
            "Sequence after embedding:  tf.Tensor(\n",
            "[[ 7.71151436e-03  6.10309001e-03 -3.55999582e-02 -3.37663814e-02\n",
            "   7.94827472e-04  1.28713148e-02  1.66932885e-02 -1.10720741e-02\n",
            "   2.69304421e-02  8.78430624e-03  7.53203407e-02  4.83757406e-02\n",
            "   6.14561699e-02  3.88935916e-02 -4.75131944e-02 -7.16535840e-03\n",
            "  -8.24751928e-02  4.81768139e-02 -3.02433167e-02 -6.47321045e-02\n",
            "   6.17498234e-02  4.57970910e-02 -6.76450357e-02 -4.67739925e-02\n",
            "  -9.03872959e-03 -1.30225420e-02 -3.57451513e-02 -5.19342571e-02\n",
            "   3.55519317e-02 -1.47365937e-02 -3.07610780e-02  8.12680647e-02\n",
            "   3.92733030e-02 -3.28254029e-02 -5.72625436e-02  2.44474430e-02\n",
            "  -6.37210384e-02 -3.27953361e-02  3.19202133e-02 -7.13769272e-02\n",
            "   1.08028750e-03  7.32769296e-02 -7.45611340e-02 -6.70118481e-02\n",
            "   6.28172532e-02  7.98335373e-02 -1.39758578e-02  7.43109733e-02\n",
            "   5.79080023e-02  9.15530790e-03 -4.81043793e-02 -6.54643103e-02\n",
            "  -7.34719187e-02  5.40941283e-02  2.38619167e-02  3.42588499e-03\n",
            "   4.44783233e-02  4.37222607e-02  4.88674492e-02  5.47979809e-02\n",
            "   6.87806122e-03  3.04034445e-02  3.79165169e-03 -3.16693746e-02\n",
            "  -3.80251557e-04 -2.45344490e-02  2.78972108e-02 -4.66425018e-03\n",
            "  -1.94208305e-02 -6.75223321e-02  4.52357642e-02  2.61645894e-02\n",
            "  -1.74108595e-02  2.73805857e-02  1.35888485e-02  5.52703291e-02\n",
            "  -1.38020692e-02 -3.10064815e-02 -1.67274009e-02 -3.67762148e-02\n",
            "  -2.25712415e-02  7.46895466e-03  6.29945323e-02  2.10474748e-02\n",
            "  -2.80509870e-02 -1.50246099e-02 -1.77397337e-02 -6.68626204e-02\n",
            "   2.45585162e-02 -7.18839914e-02  6.36021271e-02  3.86432000e-02\n",
            "   4.18504626e-02  6.33184314e-02  5.23730330e-02  5.73790856e-02\n",
            "   1.42604085e-02 -1.49389207e-02 -3.38427611e-02  6.34383876e-03\n",
            "  -7.38893002e-02  5.18966233e-03  5.01808561e-02 -3.43101434e-02\n",
            "   7.23276585e-02  2.48325672e-02 -3.71169709e-02  4.47986871e-02\n",
            "   7.93091301e-03 -6.73288703e-02  6.83298633e-02 -4.63776216e-02\n",
            "   5.16365841e-02 -1.55283948e-02  5.18683046e-02 -6.24420494e-03\n",
            "  -3.53622027e-02 -5.38414158e-02  4.98108342e-02  1.40983853e-02\n",
            "   2.02163253e-02 -6.84448183e-02 -5.73555864e-02 -5.24880216e-02\n",
            "   5.84800281e-02 -9.48520377e-03 -3.10210809e-02  4.49223677e-03\n",
            "   4.31536660e-02  5.90738989e-02 -5.39782420e-02  8.30217749e-02\n",
            "   5.39923497e-02 -3.88098061e-02  2.41064038e-02 -3.82390879e-02\n",
            "   5.42747006e-02 -7.75116059e-05 -2.42783353e-02 -7.87844807e-02\n",
            "  -1.19414357e-02  5.99347800e-02 -2.65695304e-02 -5.80816576e-03\n",
            "  -2.04048529e-02 -4.13990929e-04  2.02622707e-03 -1.01250736e-02\n",
            "   4.90682274e-02 -7.58501375e-03  6.42295703e-02  7.28943050e-02\n",
            "  -9.61678941e-03 -1.89386252e-02  6.43761978e-02  5.36989868e-02\n",
            "   4.68432195e-02 -1.55837294e-02 -3.89098637e-02 -7.09097460e-02\n",
            "   3.62463035e-02  4.96849827e-02 -5.74016757e-02  2.27162987e-03\n",
            "  -2.31336765e-02 -6.74284399e-02 -3.60122137e-02 -1.91916302e-02\n",
            "  -4.97156791e-02  3.70106809e-02 -7.39966892e-03 -7.86624253e-02\n",
            "  -6.83804303e-02 -3.67983803e-02 -1.90269127e-02 -5.84121756e-02\n",
            "   6.43257648e-02  8.29890370e-03  6.14419840e-02  7.39288554e-02\n",
            "  -1.86227374e-02  1.41676208e-02  7.83931687e-02 -4.80202548e-02\n",
            "  -6.15510391e-04  4.33156267e-02  4.52880748e-02  9.38563887e-03\n",
            "   7.78738558e-02 -1.82556361e-02  8.04492906e-02 -7.29476139e-02\n",
            "  -1.05099175e-02 -3.71560454e-04 -6.84534237e-02 -6.40699714e-02\n",
            "  -3.33380513e-02  2.92596351e-02  2.28381134e-03 -6.63624108e-02\n",
            "   1.91460270e-02  6.91954643e-02 -4.07354422e-02  6.49918318e-02\n",
            "   4.09003459e-02 -8.09767172e-02  5.65745682e-02 -5.98954558e-02\n",
            "   7.74446055e-02  1.92593317e-02  1.99776012e-02 -6.49495870e-02\n",
            "  -6.12795651e-02  3.77191603e-02 -6.95353933e-03  1.67768728e-02\n",
            "   4.75400463e-02  2.27275752e-02  2.75002681e-02  7.13062659e-02\n",
            "  -8.62147380e-03  2.72041243e-02 -2.10971497e-02 -3.57056409e-02\n",
            "  -4.08504456e-02  4.64400388e-02 -3.17615941e-02  4.81981412e-02\n",
            "   3.56342830e-02  6.12393729e-02 -4.77396101e-02  6.74052513e-04\n",
            "   2.47664992e-02  3.06203049e-02  1.94414575e-02 -3.40043642e-02\n",
            "  -5.51773198e-02  3.41499150e-02 -2.65278183e-02  7.93887600e-02\n",
            "   2.60147639e-02  5.89336678e-02  2.63892394e-02 -3.90208699e-02\n",
            "  -2.14990079e-02  2.56870221e-02 -5.74558787e-02 -7.90793821e-02\n",
            "   4.98281308e-02 -8.07276815e-02  6.53112158e-02  2.13593896e-02\n",
            "  -4.15454321e-02  5.96243963e-02 -4.69594216e-03  1.49025181e-02\n",
            "  -6.69827983e-02  6.39254525e-02  2.18443833e-02  7.06482157e-02\n",
            "   2.33643260e-02 -4.13247980e-02 -7.75387883e-02  5.82297593e-02\n",
            "  -1.91658898e-03 -3.37819755e-02  5.35982251e-02  2.54575964e-02\n",
            "  -4.66162115e-02 -5.44136167e-02  1.96371265e-02  4.29288931e-02\n",
            "  -5.82756996e-02 -4.62875739e-02 -6.72976002e-02 -4.09295298e-02\n",
            "  -5.33950105e-02 -1.49843544e-02 -1.70916114e-02 -5.40770814e-02\n",
            "  -7.60033727e-02 -6.87532648e-02 -3.84244472e-02  2.08001211e-02\n",
            "   6.56847805e-02 -2.55503990e-02  3.91659103e-02  7.15674907e-02\n",
            "   1.28783779e-02  2.71015167e-02 -6.38999045e-02  5.29945716e-02\n",
            "   5.08066081e-03 -2.17577163e-02  5.82280569e-02 -3.09712812e-03\n",
            "  -5.10567948e-02  2.72371247e-02  5.92279620e-02  6.98788017e-02\n",
            "   2.44670343e-02  4.99388315e-02  1.09126214e-02 -4.09727059e-02\n",
            "  -7.07013458e-02  5.26066050e-02 -3.14230472e-02 -8.58975749e-04\n",
            "  -2.49550045e-02 -1.35285147e-02 -5.31644002e-02  4.10904177e-02\n",
            "   2.79155280e-02  3.16933766e-02  2.10315511e-02  1.72483195e-02\n",
            "   2.41246708e-02  1.57133210e-02 -4.36007380e-02  5.97368479e-02\n",
            "  -2.13422459e-02 -2.28698943e-02 -1.38261765e-02  4.87929285e-02\n",
            "  -4.35458310e-02 -1.29714292e-02  3.49078998e-02 -5.98430075e-02\n",
            "  -8.07021484e-02  7.00527728e-02  4.70117293e-02  8.06304440e-02\n",
            "   5.94577082e-02  7.30591044e-02  1.92701016e-02 -1.58622302e-02\n",
            "   5.89403883e-03  2.84193065e-02 -2.19173846e-03 -6.92795068e-02\n",
            "  -2.85881497e-02  7.41678476e-02  7.43115321e-02  5.97716123e-02\n",
            "  -1.28707215e-02 -4.88731600e-02  2.24894658e-02 -6.16649240e-02\n",
            "  -6.72000498e-02 -4.03321609e-02  5.04096188e-02 -9.78198927e-03\n",
            "  -2.72262674e-02  8.85262992e-03  8.02893564e-02 -3.35327759e-02\n",
            "   2.68444624e-02  4.39062603e-02  3.37519161e-02 -4.77839895e-02\n",
            "   3.04153357e-02  2.18928815e-03 -6.08442128e-02 -7.87521675e-02\n",
            "   1.25659117e-02 -7.58946463e-02  3.98534201e-02  5.90160824e-02\n",
            "  -4.24040183e-02 -3.32415965e-03  2.74003390e-02 -5.30128479e-02\n",
            "  -2.22891718e-02  3.42937894e-02  1.13759162e-02  5.37663512e-02\n",
            "  -6.49220347e-02 -4.29937467e-02 -7.40894824e-02  9.97586362e-03\n",
            "  -2.80520227e-02 -4.90012802e-02  5.19190580e-02 -1.17800403e-02\n",
            "  -2.61035543e-02 -6.20822795e-02 -5.39044179e-02  3.80489007e-02\n",
            "   1.17132114e-02 -2.10309383e-02  5.32060210e-03  7.96999112e-02\n",
            "  -4.17118929e-02 -5.44520468e-02 -3.03463172e-02 -1.34477140e-02\n",
            "   4.32251766e-02 -4.55120131e-02  1.18667381e-02  1.93536952e-02\n",
            "   1.79885756e-02  1.64516717e-02 -5.10933399e-02 -1.97601877e-02\n",
            "  -1.20571516e-02 -6.32678298e-03  3.37280408e-02  2.31452547e-02\n",
            "   5.20175211e-02  3.38994041e-02 -3.17814201e-02  5.82116172e-02\n",
            "   4.00269963e-02  4.24279906e-02  4.65575308e-02  9.45769716e-03\n",
            "   2.86014657e-02 -3.12966220e-02 -4.57777679e-02  2.63392869e-02\n",
            "   5.93021289e-02 -2.65510455e-02  1.10754613e-02  1.35387676e-02\n",
            "   6.73085898e-02 -4.35491689e-02  3.43254730e-02  5.18725328e-02\n",
            "   7.20972493e-02  2.38242391e-02 -6.36897311e-02 -1.29479263e-02\n",
            "   1.56017079e-03 -6.90007806e-02  1.92854870e-02  2.24139523e-02\n",
            "  -7.55210267e-03 -5.51209003e-02  4.05734293e-02  6.06223084e-02\n",
            "   2.84122489e-02 -5.74244782e-02 -1.76075287e-02  2.72139385e-02\n",
            "   2.22283471e-02 -5.22889793e-02 -1.78782307e-02 -2.05430649e-02\n",
            "   5.75947575e-02  3.55155841e-02  1.06372936e-02 -3.68978307e-02\n",
            "   4.09899242e-02  4.01852615e-02  4.19901358e-03 -5.48030138e-02\n",
            "   5.57752326e-02 -1.95044540e-02  2.92518269e-02  1.82061084e-02\n",
            "   5.92593402e-02  2.23972648e-02 -1.65015403e-02  9.38753877e-03\n",
            "  -8.34457204e-03  4.32799831e-02  3.44557711e-03 -1.92252062e-02\n",
            "  -6.07569367e-02 -1.79956108e-02  5.97166643e-02  4.38842252e-02\n",
            "  -3.48706134e-02  4.55919467e-02  4.72386461e-03 -2.47110464e-02\n",
            "   1.64546650e-02  2.27067098e-02  4.30483781e-02 -2.98467670e-02\n",
            "   7.55502749e-03  8.01358595e-02 -1.80081781e-02 -2.23121699e-02\n",
            "  -4.32809908e-03  4.89291996e-02 -2.38337405e-02 -5.85734546e-02\n",
            "   1.58863142e-02 -3.66167501e-02  4.86127324e-02 -3.24420035e-02\n",
            "   6.83018565e-02 -1.14224758e-02  2.89434604e-02 -4.50759754e-02\n",
            "  -4.37128507e-02 -3.96551825e-02  5.93047217e-02 -4.00570370e-02\n",
            "  -3.00000478e-02 -5.25858812e-02 -6.64256886e-02 -8.04274976e-02\n",
            "   4.65708487e-02 -8.32338929e-02  3.08714807e-02  2.13448610e-02\n",
            "  -4.61657811e-03 -2.27410756e-02 -3.76311392e-02 -4.12244350e-02]], shape=(1, 512), dtype=float32)\n",
            "Shape of sequence embedded:  (1, 512)\n"
          ]
        }
      ]
    },
    {
      "cell_type": "code",
      "source": [
        "inputs = layers.Input(shape=[], dtype=tf.string)\n",
        "embedding = tf_hub_embedding_layer(inputs)\n",
        "x = layers.Dense(256, activation='relu')(embedding)\n",
        "x = layers.Dense(128, activation='relu')(x)\n",
        "outputs = layers.Dense(num_classes, activation='softmax')(x)\n",
        "\n",
        "model_2 = tf.keras.Model(inputs, outputs)\n",
        "\n",
        "model_2.summary()"
      ],
      "metadata": {
        "colab": {
          "base_uri": "https://localhost:8080/"
        },
        "id": "NzM24glLGgdw",
        "outputId": "44f05a30-719c-4001-af2f-1b5723eea585"
      },
      "execution_count": null,
      "outputs": [
        {
          "output_type": "stream",
          "name": "stdout",
          "text": [
            "Model: \"model_14\"\n",
            "_________________________________________________________________\n",
            " Layer (type)                Output Shape              Param #   \n",
            "=================================================================\n",
            " input_10 (InputLayer)       [(None,)]                 0         \n",
            "                                                                 \n",
            " universal_sentence_encoder   (None, 512)              256797824 \n",
            " (KerasLayer)                                                    \n",
            "                                                                 \n",
            " dense_18 (Dense)            (None, 256)               131328    \n",
            "                                                                 \n",
            " dense_19 (Dense)            (None, 128)               32896     \n",
            "                                                                 \n",
            " dense_20 (Dense)            (None, 5)                 645       \n",
            "                                                                 \n",
            "=================================================================\n",
            "Total params: 256,962,693\n",
            "Trainable params: 164,869\n",
            "Non-trainable params: 256,797,824\n",
            "_________________________________________________________________\n"
          ]
        }
      ]
    },
    {
      "cell_type": "code",
      "source": [
        "model_2.compile(loss='categorical_crossentropy',\n",
        "                optimizer=tf.keras.optimizers.Adam(),\n",
        "                metrics=['accuracy'])\n",
        "\n",
        "history_model_2 = model_2.fit(train_dataset,\n",
        "                              steps_per_epoch=int(0.1 * len(train_dataset)),\n",
        "                              epochs=3,\n",
        "                              validation_data=val_dataset,\n",
        "                              validation_steps=int(0.1 * len(val_dataset)))"
      ],
      "metadata": {
        "colab": {
          "base_uri": "https://localhost:8080/"
        },
        "id": "NydyarIwHJlx",
        "outputId": "2adf67d4-30aa-489a-f3c4-08477a6d4c05"
      },
      "execution_count": null,
      "outputs": [
        {
          "output_type": "stream",
          "name": "stdout",
          "text": [
            "Epoch 1/3\n",
            "562/562 [==============================] - 15s 22ms/step - loss: 0.8609 - accuracy: 0.6645 - val_loss: 0.7499 - val_accuracy: 0.7134\n",
            "Epoch 2/3\n",
            "562/562 [==============================] - 13s 23ms/step - loss: 0.7177 - accuracy: 0.7223 - val_loss: 0.6928 - val_accuracy: 0.7301\n",
            "Epoch 3/3\n",
            "562/562 [==============================] - 13s 22ms/step - loss: 0.6917 - accuracy: 0.7315 - val_loss: 0.6627 - val_accuracy: 0.7410\n"
          ]
        }
      ]
    },
    {
      "cell_type": "code",
      "source": [
        "model_2.evaluate(val_dataset)"
      ],
      "metadata": {
        "colab": {
          "base_uri": "https://localhost:8080/"
        },
        "id": "n_DBJUrzHkib",
        "outputId": "c6b7a79e-0406-474f-edd5-3a8bdbac44fe"
      },
      "execution_count": null,
      "outputs": [
        {
          "output_type": "stream",
          "name": "stdout",
          "text": [
            "945/945 [==============================] - 15s 16ms/step - loss: 0.6736 - accuracy: 0.7397\n"
          ]
        },
        {
          "output_type": "execute_result",
          "data": {
            "text/plain": [
              "[0.6735812425613403, 0.7397060990333557]"
            ]
          },
          "metadata": {},
          "execution_count": 163
        }
      ]
    },
    {
      "cell_type": "code",
      "source": [
        "model_2_pred_probs = model_2.predict(val_dataset)\n",
        "model_2_preds = tf.argmax(model_2_pred_probs, axis=1)\n",
        "\n",
        "model_2_results = calculate_results(model_2_preds, val_labels_encoded)\n",
        "model_2_results"
      ],
      "metadata": {
        "colab": {
          "base_uri": "https://localhost:8080/"
        },
        "id": "D7rqL_4FHvga",
        "outputId": "cd03396a-e813-4ad7-f72e-e2b735f70695"
      },
      "execution_count": null,
      "outputs": [
        {
          "output_type": "execute_result",
          "data": {
            "text/plain": [
              "{'accuracy': 73.97060770554747,\n",
              " 'f1': 0.7404577360220156,\n",
              " 'precision': 0.7425550406773077,\n",
              " 'recall': 0.7397060770554746}"
            ]
          },
          "metadata": {},
          "execution_count": 164
        }
      ]
    },
    {
      "cell_type": "markdown",
      "source": [
        "### Model 3: Conv1D character embeddings"
      ],
      "metadata": {
        "id": "nZHD7JZlI3Sj"
      }
    },
    {
      "cell_type": "code",
      "source": [
        "def split_chars(sentence):\n",
        "  return \" \".join(list(sentence))\n",
        "\n",
        "split_chars(target)"
      ],
      "metadata": {
        "colab": {
          "base_uri": "https://localhost:8080/",
          "height": 70
        },
        "id": "s2Xfn2OBI8xv",
        "outputId": "67392c59-957b-4be1-b00e-f63a1c887a50"
      },
      "execution_count": null,
      "outputs": [
        {
          "output_type": "execute_result",
          "data": {
            "text/plain": [
              "'t h i s   s t u d y   a i m e d   t o   d e t e r m i n e   t h e   e f f e c t   o f   t o p i c a l   l i d o c a i n e   o n   p e n e t r a t i o n - a s p i r a t i o n   s c a l e   (   p a s   )   s c o r e s   a n d   p a t i e n t   c o m f o r t   a n d   t o l e r a n c e   o f   f l e x i b l e   e n d o s c o p i c   e v a l u a t i o n   o f   s w a l l o w i n g   (   f e e s   )   e x a m i n a t i o n s   i n   d y s p h a g i c   p a t i e n t s   .'"
            ],
            "application/vnd.google.colaboratory.intrinsic+json": {
              "type": "string"
            }
          },
          "metadata": {},
          "execution_count": 165
        }
      ]
    },
    {
      "cell_type": "code",
      "source": [
        "train_chars = [split_chars(sentence) for sentence in train_sentences]\n",
        "val_chars = [split_chars(sentence) for sentence in val_sentences]\n",
        "test_chars = [split_chars(sentence) for sentence in test_sentences]\n",
        "\n",
        "chars_len = [len(sentence) for sentence in train_sentences]\n",
        "avg_chars_len = np.median(chars_len)\n",
        "avg_chars_len"
      ],
      "metadata": {
        "colab": {
          "base_uri": "https://localhost:8080/"
        },
        "id": "wbsNtJ6HJncD",
        "outputId": "cc363f15-26a6-42ae-c158-f51e36636ee1"
      },
      "execution_count": null,
      "outputs": [
        {
          "output_type": "execute_result",
          "data": {
            "text/plain": [
              "137.0"
            ]
          },
          "metadata": {},
          "execution_count": 166
        }
      ]
    },
    {
      "cell_type": "code",
      "source": [
        "import matplotlib.pyplot as plt\n",
        "\n",
        "plt.hist(chars_len, bins=7);"
      ],
      "metadata": {
        "colab": {
          "base_uri": "https://localhost:8080/",
          "height": 265
        },
        "id": "XE_7Cgq3KNP1",
        "outputId": "4b883256-3293-43fa-a72d-892e0651a21e"
      },
      "execution_count": null,
      "outputs": [
        {
          "output_type": "display_data",
          "data": {
            "text/plain": [
              "<Figure size 432x288 with 1 Axes>"
            ],
            "image/png": "[encoded data removed]"
          },
          "metadata": {
            "needs_background": "light"
          }
        }
      ]
    },
    {
      "cell_type": "code",
      "source": [
        "output_seq_char_len = int(np.percentile(chars_len, 95))\n",
        "output_seq_char_len"
      ],
      "metadata": {
        "colab": {
          "base_uri": "https://localhost:8080/"
        },
        "id": "rROBQYzbKaWX",
        "outputId": "d590bc96-7902-4506-9db3-662d3e18ed10"
      },
      "execution_count": null,
      "outputs": [
        {
          "output_type": "execute_result",
          "data": {
            "text/plain": [
              "290"
            ]
          },
          "metadata": {},
          "execution_count": 168
        }
      ]
    },
    {
      "cell_type": "code",
      "source": [
        "import string\n",
        "\n",
        "alphabet = string.ascii_lowercase + string.digits + string.punctuation\n",
        "alphabet"
      ],
      "metadata": {
        "colab": {
          "base_uri": "https://localhost:8080/",
          "height": 35
        },
        "id": "YgSFfO5KLGJh",
        "outputId": "ef4f6d7e-6ea3-4855-aca8-2651f9e82403"
      },
      "execution_count": null,
      "outputs": [
        {
          "output_type": "execute_result",
          "data": {
            "text/plain": [
              "'abcdefghijklmnopqrstuvwxyz0123456789!\"#$%&\\'()*+,-./:;<=>?@[\\\\]^_`{|}~'"
            ],
            "application/vnd.google.colaboratory.intrinsic+json": {
              "type": "string"
            }
          },
          "metadata": {},
          "execution_count": 169
        }
      ]
    },
    {
      "cell_type": "code",
      "source": [
        "NUM_CHAR_TOKENS = len(alphabet) + 2\n",
        "char_vectorizer = TextVectorization(max_tokens=NUM_CHAR_TOKENS,\n",
        "                                    output_sequence_length=output_seq_char_len,\n",
        "                                    standardize='lower_and_strip_punctuation',\n",
        "                                    name='char_vectorizer')\n",
        "\n",
        "char_vectorizer.adapt(train_chars)"
      ],
      "metadata": {
        "id": "4dhMAA_wLK3z"
      },
      "execution_count": null,
      "outputs": []
    },
    {
      "cell_type": "code",
      "source": [
        "char_vocab = char_vectorizer.get_vocabulary()\n",
        "print('Numbers of differents characters: ', len(char_vocab))\n",
        "print('Most common characters: ', char_vocab[:5])\n",
        "print('Least common characters: ', char_vocab[-5:])"
      ],
      "metadata": {
        "colab": {
          "base_uri": "https://localhost:8080/"
        },
        "id": "ycNqdd_9MAY7",
        "outputId": "febb17d2-ce0d-4dbe-b5c5-421a7bbd1122"
      },
      "execution_count": null,
      "outputs": [
        {
          "output_type": "stream",
          "name": "stdout",
          "text": [
            "Numbers of differents characters:  28\n",
            "Most common characters:  ['', '[UNK]', 'e', 't', 'i']\n",
            "Least common characters:  ['k', 'x', 'z', 'q', 'j']\n"
          ]
        }
      ]
    },
    {
      "cell_type": "code",
      "source": [
        "random_chars = random.choice(train_chars)\n",
        "print('Charified text: ', random_chars)\n",
        "print('\\nLength chars: ', len(random_chars.split()))\n",
        "print('\\nVectorized chars: ', char_vectorizer(random_chars))"
      ],
      "metadata": {
        "colab": {
          "base_uri": "https://localhost:8080/"
        },
        "id": "mB0XEIJwMfqF",
        "outputId": "19b1abad-614f-4ebf-8da8-66aa911edffa"
      },
      "execution_count": null,
      "outputs": [
        {
          "output_type": "stream",
          "name": "stdout",
          "text": [
            "Charified text:  i n   t h e   a t   g r o u p   ,   t h e   t h r e e   t e a r   p r o t e i n s   c o n t i n u e d   t o   d e c r e a s e   i n   b o t h   t h e   a n a l y s e s   .\n",
            "\n",
            "Length chars:  70\n",
            "\n",
            "Vectorized chars:  tf.Tensor(\n",
            "[ 4  6  3 13  2  5  3 18  8  7 16 14  3 13  2  3 13  8  2  2  3  2  5  8\n",
            " 14  8  7  3  2  4  6  9 11  7  6  3  4  6 16  2 10  3  7 10  2 11  8  2\n",
            "  5  9  2  4  6 22  7  3 13  3 13  2  5  6  5 12 19  9  2  9  0  0  0  0\n",
            "  0  0  0  0  0  0  0  0  0  0  0  0  0  0  0  0  0  0  0  0  0  0  0  0\n",
            "  0  0  0  0  0  0  0  0  0  0  0  0  0  0  0  0  0  0  0  0  0  0  0  0\n",
            "  0  0  0  0  0  0  0  0  0  0  0  0  0  0  0  0  0  0  0  0  0  0  0  0\n",
            "  0  0  0  0  0  0  0  0  0  0  0  0  0  0  0  0  0  0  0  0  0  0  0  0\n",
            "  0  0  0  0  0  0  0  0  0  0  0  0  0  0  0  0  0  0  0  0  0  0  0  0\n",
            "  0  0  0  0  0  0  0  0  0  0  0  0  0  0  0  0  0  0  0  0  0  0  0  0\n",
            "  0  0  0  0  0  0  0  0  0  0  0  0  0  0  0  0  0  0  0  0  0  0  0  0\n",
            "  0  0  0  0  0  0  0  0  0  0  0  0  0  0  0  0  0  0  0  0  0  0  0  0\n",
            "  0  0  0  0  0  0  0  0  0  0  0  0  0  0  0  0  0  0  0  0  0  0  0  0\n",
            "  0  0], shape=(290,), dtype=int64)\n"
          ]
        }
      ]
    },
    {
      "cell_type": "code",
      "source": [
        "char_embed = layers.Embedding(input_dim=NUM_CHAR_TOKENS,\n",
        "                              output_dim=25,\n",
        "                              mask_zero=False,\n",
        "                              name='char_embed')\n",
        "\n",
        "print('Charified text: ', random_chars)\n",
        "print('\\nVectorized chars: ', char_vectorizer(random_chars))\n",
        "print('\\nEmbed chars: ', char_embed(char_vectorizer(random_chars)))"
      ],
      "metadata": {
        "colab": {
          "base_uri": "https://localhost:8080/"
        },
        "id": "1FSZzCi1NFUk",
        "outputId": "c8a30930-2698-417c-98cb-876df04a4449"
      },
      "execution_count": null,
      "outputs": [
        {
          "output_type": "stream",
          "name": "stdout",
          "text": [
            "Charified text:  i n   t h e   a t   g r o u p   ,   t h e   t h r e e   t e a r   p r o t e i n s   c o n t i n u e d   t o   d e c r e a s e   i n   b o t h   t h e   a n a l y s e s   .\n",
            "\n",
            "Vectorized chars:  tf.Tensor(\n",
            "[ 4  6  3 13  2  5  3 18  8  7 16 14  3 13  2  3 13  8  2  2  3  2  5  8\n",
            " 14  8  7  3  2  4  6  9 11  7  6  3  4  6 16  2 10  3  7 10  2 11  8  2\n",
            "  5  9  2  4  6 22  7  3 13  3 13  2  5  6  5 12 19  9  2  9  0  0  0  0\n",
            "  0  0  0  0  0  0  0  0  0  0  0  0  0  0  0  0  0  0  0  0  0  0  0  0\n",
            "  0  0  0  0  0  0  0  0  0  0  0  0  0  0  0  0  0  0  0  0  0  0  0  0\n",
            "  0  0  0  0  0  0  0  0  0  0  0  0  0  0  0  0  0  0  0  0  0  0  0  0\n",
            "  0  0  0  0  0  0  0  0  0  0  0  0  0  0  0  0  0  0  0  0  0  0  0  0\n",
            "  0  0  0  0  0  0  0  0  0  0  0  0  0  0  0  0  0  0  0  0  0  0  0  0\n",
            "  0  0  0  0  0  0  0  0  0  0  0  0  0  0  0  0  0  0  0  0  0  0  0  0\n",
            "  0  0  0  0  0  0  0  0  0  0  0  0  0  0  0  0  0  0  0  0  0  0  0  0\n",
            "  0  0  0  0  0  0  0  0  0  0  0  0  0  0  0  0  0  0  0  0  0  0  0  0\n",
            "  0  0  0  0  0  0  0  0  0  0  0  0  0  0  0  0  0  0  0  0  0  0  0  0\n",
            "  0  0], shape=(290,), dtype=int64)\n",
            "\n",
            "Embed chars:  tf.Tensor(\n",
            "[[ 0.03691386  0.04988885 -0.01694367 ... -0.00659674 -0.01449555\n",
            "   0.04776332]\n",
            " [ 0.03946379 -0.03434457  0.04129997 ...  0.03304667  0.03962183\n",
            "  -0.02153697]\n",
            " [ 0.01130233 -0.03477843 -0.01498789 ... -0.00702691  0.01428434\n",
            "  -0.0221215 ]\n",
            " ...\n",
            " [-0.01806331  0.01839166 -0.02569331 ...  0.04947677  0.01020347\n",
            "   0.04845092]\n",
            " [-0.01806331  0.01839166 -0.02569331 ...  0.04947677  0.01020347\n",
            "   0.04845092]\n",
            " [-0.01806331  0.01839166 -0.02569331 ...  0.04947677  0.01020347\n",
            "   0.04845092]], shape=(290, 25), dtype=float32)\n"
          ]
        }
      ]
    },
    {
      "cell_type": "code",
      "source": [
        "inputs = layers.Input(shape=(1,), dtype=tf.string)\n",
        "char_vectorized = char_vectorizer(inputs)\n",
        "char_embeds = char_embed(char_vectorized)\n",
        "x = layers.Conv1D(filters=64, kernel_size=5, padding='same', activation='relu')(char_embeds)\n",
        "x = layers.GlobalAveragePooling1D()(x)\n",
        "#x = layers.Dense(128, activation='relu')(x)\n",
        "outputs = layers.Dense(num_classes, activation='softmax')(x)\n",
        "\n",
        "model_3 = tf.keras.Model(inputs, outputs)\n",
        "\n",
        "model_3.compile(loss='categorical_crossentropy',\n",
        "                optimizer=tf.keras.optimizers.Adam(),\n",
        "                metrics=['accuracy'])\n",
        "\n",
        "model_3.summary()"
      ],
      "metadata": {
        "colab": {
          "base_uri": "https://localhost:8080/"
        },
        "id": "Hjk6cQZLN85s",
        "outputId": "66685a95-647f-4d29-e1ce-de04c6ec9088"
      },
      "execution_count": null,
      "outputs": [
        {
          "output_type": "stream",
          "name": "stdout",
          "text": [
            "Model: \"model_15\"\n",
            "_________________________________________________________________\n",
            " Layer (type)                Output Shape              Param #   \n",
            "=================================================================\n",
            " input_11 (InputLayer)       [(None, 1)]               0         \n",
            "                                                                 \n",
            " char_vectorizer (TextVector  (None, 290)              0         \n",
            " ization)                                                        \n",
            "                                                                 \n",
            " char_embed (Embedding)      (None, 290, 25)           1750      \n",
            "                                                                 \n",
            " conv1d_8 (Conv1D)           (None, 290, 64)           8064      \n",
            "                                                                 \n",
            " global_average_pooling1d_8   (None, 64)               0         \n",
            " (GlobalAveragePooling1D)                                        \n",
            "                                                                 \n",
            " dense_21 (Dense)            (None, 5)                 325       \n",
            "                                                                 \n",
            "=================================================================\n",
            "Total params: 10,139\n",
            "Trainable params: 10,139\n",
            "Non-trainable params: 0\n",
            "_________________________________________________________________\n"
          ]
        }
      ]
    },
    {
      "cell_type": "code",
      "source": [
        "train_char_dataset = tf.data.Dataset.from_tensor_slices((train_chars, train_labels_one_hot)).batch(32).prefetch(tf.data.AUTOTUNE)\n",
        "val_char_dataset = tf.data.Dataset.from_tensor_slices((val_chars, val_labels_one_hot)).batch(32).prefetch(tf.data.AUTOTUNE)\n",
        "\n",
        "train_char_dataset"
      ],
      "metadata": {
        "colab": {
          "base_uri": "https://localhost:8080/"
        },
        "id": "_7GW_T5iQKDX",
        "outputId": "337fbd71-e4ff-43d3-ff62-b17ab4c67b5e"
      },
      "execution_count": null,
      "outputs": [
        {
          "output_type": "execute_result",
          "data": {
            "text/plain": [
              "<PrefetchDataset element_spec=(TensorSpec(shape=(None,), dtype=tf.string, name=None), TensorSpec(shape=(None, 5), dtype=tf.float64, name=None))>"
            ]
          },
          "metadata": {},
          "execution_count": 175
        }
      ]
    },
    {
      "cell_type": "code",
      "source": [
        "history_model_3 = model_3.fit(train_char_dataset,\n",
        "                              steps_per_epoch=int(0.1 * len(train_dataset)),\n",
        "                              epochs=10,\n",
        "                              validation_data=val_dataset,\n",
        "                              validation_steps=int(0.1 * len(val_dataset)))"
      ],
      "metadata": {
        "colab": {
          "base_uri": "https://localhost:8080/"
        },
        "id": "707x4b1FQDJX",
        "outputId": "8d63fb55-ffd9-40ae-f96a-25df12430db6"
      },
      "execution_count": null,
      "outputs": [
        {
          "output_type": "stream",
          "name": "stdout",
          "text": [
            "Epoch 1/10\n",
            "562/562 [==============================] - 6s 9ms/step - loss: 1.4605 - accuracy: 0.3479 - val_loss: 1.4891 - val_accuracy: 0.3298\n",
            "Epoch 2/10\n",
            "562/562 [==============================] - 5s 9ms/step - loss: 1.3699 - accuracy: 0.4196 - val_loss: 1.4808 - val_accuracy: 0.3225\n",
            "Epoch 3/10\n",
            "562/562 [==============================] - 5s 9ms/step - loss: 1.3269 - accuracy: 0.4518 - val_loss: 1.4864 - val_accuracy: 0.3291\n",
            "Epoch 4/10\n",
            "562/562 [==============================] - 5s 9ms/step - loss: 1.3003 - accuracy: 0.4591 - val_loss: 1.4872 - val_accuracy: 0.3577\n",
            "Epoch 5/10\n",
            "562/562 [==============================] - 5s 8ms/step - loss: 1.2934 - accuracy: 0.4593 - val_loss: 1.4817 - val_accuracy: 0.3634\n",
            "Epoch 6/10\n",
            "562/562 [==============================] - 5s 9ms/step - loss: 1.2869 - accuracy: 0.4669 - val_loss: 1.4806 - val_accuracy: 0.3574\n",
            "Epoch 7/10\n",
            "562/562 [==============================] - 3s 5ms/step - loss: 1.2796 - accuracy: 0.4654 - val_loss: 1.4815 - val_accuracy: 0.3404\n",
            "Epoch 8/10\n",
            "562/562 [==============================] - 3s 5ms/step - loss: 1.2606 - accuracy: 0.4789 - val_loss: 1.4835 - val_accuracy: 0.3870\n",
            "Epoch 9/10\n",
            "562/562 [==============================] - 4s 7ms/step - loss: 1.2553 - accuracy: 0.4798 - val_loss: 1.4982 - val_accuracy: 0.3856\n",
            "Epoch 10/10\n",
            "562/562 [==============================] - 4s 6ms/step - loss: 1.2505 - accuracy: 0.4835 - val_loss: 1.4831 - val_accuracy: 0.4225\n"
          ]
        }
      ]
    },
    {
      "cell_type": "code",
      "source": [
        "model_3.evaluate(val_char_dataset)"
      ],
      "metadata": {
        "colab": {
          "base_uri": "https://localhost:8080/"
        },
        "id": "mCGLW00-SzUY",
        "outputId": "cc9787c4-0098-4b90-9622-afd9810d8f9c"
      },
      "execution_count": null,
      "outputs": [
        {
          "output_type": "stream",
          "name": "stdout",
          "text": [
            "945/945 [==============================] - 3s 3ms/step - loss: 1.2353 - accuracy: 0.4960\n"
          ]
        },
        {
          "output_type": "execute_result",
          "data": {
            "text/plain": [
              "[1.2352588176727295, 0.49596187472343445]"
            ]
          },
          "metadata": {},
          "execution_count": 177
        }
      ]
    },
    {
      "cell_type": "code",
      "source": [
        "model_3_pred_probs = model_3.predict(val_char_dataset)\n",
        "model_3_preds = tf.argmax(model_3_pred_probs, axis=1)\n",
        "\n",
        "model_3_results = calculate_results(val_labels_encoded, model_3_preds)\n",
        "model_3_results"
      ],
      "metadata": {
        "colab": {
          "base_uri": "https://localhost:8080/"
        },
        "id": "7vP6ZOTWS_KB",
        "outputId": "5ab18293-d64b-41d6-bae0-beb9d5bb40e5"
      },
      "execution_count": null,
      "outputs": [
        {
          "output_type": "execute_result",
          "data": {
            "text/plain": [
              "{'accuracy': 49.596186945584535,\n",
              " 'f1': 0.454423579527234,\n",
              " 'precision': 0.45391055822542137,\n",
              " 'recall': 0.49596186945584536}"
            ]
          },
          "metadata": {},
          "execution_count": 178
        }
      ]
    },
    {
      "cell_type": "markdown",
      "source": [
        "### Model 4: Combining pretrained token embeddings + character embeddings"
      ],
      "metadata": {
        "id": "5AlV-x9fTdYi"
      }
    },
    {
      "cell_type": "code",
      "source": [
        "token_inputs = layers.Input(shape=[], dtype=tf.string, name=\"token_input\")\n",
        "token_embeddings = tf_hub_embedding_layer(token_inputs)\n",
        "token_output = layers.Dense(128, activation=\"relu\")(token_embeddings)\n",
        "token_model = tf.keras.Model(inputs=token_inputs,\n",
        "                             outputs=token_output)\n",
        "\n",
        "char_inputs = layers.Input(shape=(1,), dtype=tf.string, name=\"char_input\")\n",
        "char_vectors = char_vectorizer(char_inputs)\n",
        "char_embeddings = char_embed(char_vectors)\n",
        "char_bi_lstm = layers.Bidirectional(layers.LSTM(25))(char_embeddings)\n",
        "char_model = tf.keras.Model(inputs=char_inputs,\n",
        "                            outputs=char_bi_lstm)\n",
        "\n",
        "token_char_concat = layers.Concatenate(name=\"token_char_hybrid\")([token_model.output, \n",
        "                                                                  char_model.output])\n",
        "\n",
        "combined_dropout = layers.Dropout(0.5)(token_char_concat)\n",
        "combined_dense = layers.Dense(200, activation=\"relu\")(combined_dropout)\n",
        "final_dropout = layers.Dropout(0.5)(combined_dense)\n",
        "output_layer = layers.Dense(num_classes, activation=\"softmax\")(final_dropout)\n",
        "\n",
        "model_4 = tf.keras.Model(inputs=[token_model.input, char_model.input],\n",
        "                         outputs=output_layer,\n",
        "                         name=\"model_4_token_and_char_embeddings\")\n",
        "\n",
        "model_4.summary()"
      ],
      "metadata": {
        "colab": {
          "base_uri": "https://localhost:8080/"
        },
        "id": "QrSlWYucT1X8",
        "outputId": "e87c0f1f-e46f-4345-b5d3-5e54a65fda9f"
      },
      "execution_count": null,
      "outputs": [
        {
          "output_type": "stream",
          "name": "stdout",
          "text": [
            "Model: \"model_4_token_and_char_embeddings\"\n",
            "__________________________________________________________________________________________________\n",
            " Layer (type)                   Output Shape         Param #     Connected to                     \n",
            "==================================================================================================\n",
            " char_input (InputLayer)        [(None, 1)]          0           []                               \n",
            "                                                                                                  \n",
            " token_input (InputLayer)       [(None,)]            0           []                               \n",
            "                                                                                                  \n",
            " char_vectorizer (TextVectoriza  (None, 290)         0           ['char_input[0][0]']             \n",
            " tion)                                                                                            \n",
            "                                                                                                  \n",
            " universal_sentence_encoder (Ke  (None, 512)         256797824   ['token_input[0][0]']            \n",
            " rasLayer)                                                                                        \n",
            "                                                                                                  \n",
            " char_embed (Embedding)         (None, 290, 25)      1750        ['char_vectorizer[1][0]']        \n",
            "                                                                                                  \n",
            " dense_22 (Dense)               (None, 128)          65664       ['universal_sentence_encoder[1][0\n",
            "                                                                 ]']                              \n",
            "                                                                                                  \n",
            " bidirectional_2 (Bidirectional  (None, 50)          10200       ['char_embed[1][0]']             \n",
            " )                                                                                                \n",
            "                                                                                                  \n",
            " token_char_hybrid (Concatenate  (None, 178)         0           ['dense_22[0][0]',               \n",
            " )                                                                'bidirectional_2[0][0]']        \n",
            "                                                                                                  \n",
            " dropout_4 (Dropout)            (None, 178)          0           ['token_char_hybrid[0][0]']      \n",
            "                                                                                                  \n",
            " dense_23 (Dense)               (None, 200)          35800       ['dropout_4[0][0]']              \n",
            "                                                                                                  \n",
            " dropout_5 (Dropout)            (None, 200)          0           ['dense_23[0][0]']               \n",
            "                                                                                                  \n",
            " dense_24 (Dense)               (None, 5)            1005        ['dropout_5[0][0]']              \n",
            "                                                                                                  \n",
            "==================================================================================================\n",
            "Total params: 256,912,243\n",
            "Trainable params: 114,419\n",
            "Non-trainable params: 256,797,824\n",
            "__________________________________________________________________________________________________\n"
          ]
        }
      ]
    },
    {
      "cell_type": "code",
      "source": [
        "from tensorflow.keras.utils import plot_model\n",
        "\n",
        "plot_model(model_4)"
      ],
      "metadata": {
        "colab": {
          "base_uri": "https://localhost:8080/",
          "height": 856
        },
        "id": "3Rauj1v5VyuB",
        "outputId": "a8c4b503-3446-48be-c8f5-9213d82e4a3a"
      },
      "execution_count": null,
      "outputs": [
        {
          "output_type": "execute_result",
          "data": {
            "text/plain": [
              "<IPython.core.display.Image object>"
            ],
            "image/png": "[encoded data removed]"
          },
          "metadata": {},
          "execution_count": 180
        }
      ]
    },
    {
      "cell_type": "code",
      "source": [
        "model_4.compile(loss='categorical_crossentropy',\n",
        "                optimizer=tf.keras.optimizers.Adam(),\n",
        "                metrics=['accuracy'])\n",
        "\n",
        "train_char_token_data = tf.data.Dataset.from_tensor_slices((train_sentences, train_chars))\n",
        "train_char_token_labels = tf.data.Dataset.from_tensor_slices(train_labels_one_hot)\n",
        "train_char_token_dataset = tf.data.Dataset.zip((train_char_token_data, train_char_token_labels)) \n",
        "\n",
        "train_char_token_dataset = train_char_token_dataset.batch(32).prefetch(tf.data.AUTOTUNE) \n",
        "\n",
        "val_char_token_data = tf.data.Dataset.from_tensor_slices((val_sentences, val_chars))\n",
        "val_char_token_labels = tf.data.Dataset.from_tensor_slices(val_labels_one_hot)\n",
        "val_char_token_dataset = tf.data.Dataset.zip((val_char_token_data, val_char_token_labels))\n",
        "val_char_token_dataset = val_char_token_dataset.batch(32).prefetch(tf.data.AUTOTUNE)"
      ],
      "metadata": {
        "id": "8r1-FBBDV9Fx"
      },
      "execution_count": null,
      "outputs": []
    },
    {
      "cell_type": "code",
      "source": [
        "history_model_4 = model_4.fit(train_char_token_dataset, \n",
        "                              steps_per_epoch=int(0.1 * len(train_char_token_dataset)),\n",
        "                              epochs=10,\n",
        "                              validation_data=val_char_token_dataset,\n",
        "                              validation_steps=int(0.1 * len(val_char_token_dataset)))"
      ],
      "metadata": {
        "colab": {
          "base_uri": "https://localhost:8080/"
        },
        "id": "dXC66fg7Xr7u",
        "outputId": "bbb78f9d-8753-4343-cd83-3b4b8815ff04"
      },
      "execution_count": null,
      "outputs": [
        {
          "output_type": "stream",
          "name": "stdout",
          "text": [
            "Epoch 1/10\n",
            "562/562 [==============================] - 32s 50ms/step - loss: 0.9730 - accuracy: 0.6135 - val_loss: 0.7894 - val_accuracy: 0.6928\n",
            "Epoch 2/10\n",
            "562/562 [==============================] - 19s 33ms/step - loss: 0.7981 - accuracy: 0.6914 - val_loss: 0.7256 - val_accuracy: 0.7211\n",
            "Epoch 3/10\n",
            "562/562 [==============================] - 19s 33ms/step - loss: 0.7725 - accuracy: 0.7042 - val_loss: 0.6955 - val_accuracy: 0.7390\n",
            "Epoch 4/10\n",
            "562/562 [==============================] - 19s 35ms/step - loss: 0.7462 - accuracy: 0.7160 - val_loss: 0.6694 - val_accuracy: 0.7450\n",
            "Epoch 5/10\n",
            "562/562 [==============================] - 19s 34ms/step - loss: 0.7476 - accuracy: 0.7160 - val_loss: 0.6606 - val_accuracy: 0.7473\n",
            "Epoch 6/10\n",
            "562/562 [==============================] - 29s 52ms/step - loss: 0.7419 - accuracy: 0.7176 - val_loss: 0.6471 - val_accuracy: 0.7600\n",
            "Epoch 7/10\n",
            "562/562 [==============================] - 31s 55ms/step - loss: 0.7109 - accuracy: 0.7303 - val_loss: 0.6428 - val_accuracy: 0.7603\n",
            "Epoch 8/10\n",
            "562/562 [==============================] - 27s 48ms/step - loss: 0.7064 - accuracy: 0.7329 - val_loss: 0.6290 - val_accuracy: 0.7620\n",
            "Epoch 9/10\n",
            "562/562 [==============================] - 27s 47ms/step - loss: 0.7077 - accuracy: 0.7320 - val_loss: 0.6295 - val_accuracy: 0.7623\n",
            "Epoch 10/10\n",
            "562/562 [==============================] - 30s 54ms/step - loss: 0.6995 - accuracy: 0.7365 - val_loss: 0.6218 - val_accuracy: 0.7686\n"
          ]
        }
      ]
    },
    {
      "cell_type": "code",
      "source": [
        "model_4.evaluate(val_char_token_dataset)"
      ],
      "metadata": {
        "colab": {
          "base_uri": "https://localhost:8080/"
        },
        "id": "6gtS3NzOafiZ",
        "outputId": "fe0b87ea-8b68-4785-b576-28f8c5414c0b"
      },
      "execution_count": null,
      "outputs": [
        {
          "output_type": "stream",
          "name": "stdout",
          "text": [
            "945/945 [==============================] - 35s 37ms/step - loss: 0.6240 - accuracy: 0.7628\n"
          ]
        },
        {
          "output_type": "execute_result",
          "data": {
            "text/plain": [
              "[0.6239616870880127, 0.76284259557724]"
            ]
          },
          "metadata": {},
          "execution_count": 183
        }
      ]
    },
    {
      "cell_type": "code",
      "source": [
        "model_4_pred_probs = model_4.predict(val_char_token_dataset)\n",
        "model_4_preds = tf.argmax(model_4_pred_probs, axis=1)\n",
        "\n",
        "model_4_results = calculate_results(val_labels_encoded, model_4_preds)\n",
        "model_4_results"
      ],
      "metadata": {
        "colab": {
          "base_uri": "https://localhost:8080/"
        },
        "id": "SAIO8LMsanOZ",
        "outputId": "8ecdf71c-9c96-44bc-d5e6-c41ed999c271"
      },
      "execution_count": null,
      "outputs": [
        {
          "output_type": "execute_result",
          "data": {
            "text/plain": [
              "{'accuracy': 76.28425791076393,\n",
              " 'f1': 0.759025747937249,\n",
              " 'precision': 0.7616676724234396,\n",
              " 'recall': 0.7628425791076393}"
            ]
          },
          "metadata": {},
          "execution_count": 184
        }
      ]
    },
    {
      "cell_type": "markdown",
      "source": [
        "### Model 5: Transfer Learning with token embeddings + char embeddings + positional embeddings"
      ],
      "metadata": {
        "id": "67JsRXaMbuQP"
      }
    },
    {
      "cell_type": "code",
      "source": [
        "train_df['line_number'].values_counts()"
      ],
      "metadata": {
        "id": "3m258hpLb7FZ"
      },
      "execution_count": null,
      "outputs": []
    },
    {
      "cell_type": "code",
      "source": [
        "train_df['line_number'].plot.hist()"
      ],
      "metadata": {
        "colab": {
          "base_uri": "https://localhost:8080/",
          "height": 282
        },
        "id": "W0ju7CQoltgQ",
        "outputId": "b883e0a0-309a-4bc7-8c4e-656329e29b52"
      },
      "execution_count": null,
      "outputs": [
        {
          "output_type": "execute_result",
          "data": {
            "text/plain": [
              "<matplotlib.axes._subplots.AxesSubplot at 0x7f26ae79cc50>"
            ]
          },
          "metadata": {},
          "execution_count": 185
        },
        {
          "output_type": "display_data",
          "data": {
            "text/plain": [
              "<Figure size 432x288 with 1 Axes>"
            ],
            "image/png": "[encoded data removed]"
          },
          "metadata": {
            "needs_background": "light"
          }
        }
      ]
    },
    {
      "cell_type": "code",
      "source": [
        "train_line_numbers_one_hot = tf.one_hot(train_df['line_number'].to_numpy(), depth=15)\n",
        "val_line_numbers_one_hot = tf.one_hot(val_df['line_number'].to_numpy(), depth=15)\n",
        "test_line_numbers_one_hot = tf.one_hot(test_df['line_number'].to_numpy(), depth=15)\n",
        "\n",
        "train_line_numbers_one_hot.shape, train_line_numbers_one_hot[:20]"
      ],
      "metadata": {
        "colab": {
          "base_uri": "https://localhost:8080/"
        },
        "id": "vAVyTmhsl4E-",
        "outputId": "122c96eb-a21f-40c9-8b8a-11bddef8d3ce"
      },
      "execution_count": null,
      "outputs": [
        {
          "output_type": "execute_result",
          "data": {
            "text/plain": [
              "(TensorShape([180040, 15]), <tf.Tensor: shape=(20, 15), dtype=float32, numpy=\n",
              " array([[1., 0., 0., 0., 0., 0., 0., 0., 0., 0., 0., 0., 0., 0., 0.],\n",
              "        [0., 1., 0., 0., 0., 0., 0., 0., 0., 0., 0., 0., 0., 0., 0.],\n",
              "        [0., 0., 1., 0., 0., 0., 0., 0., 0., 0., 0., 0., 0., 0., 0.],\n",
              "        [0., 0., 0., 1., 0., 0., 0., 0., 0., 0., 0., 0., 0., 0., 0.],\n",
              "        [0., 0., 0., 0., 1., 0., 0., 0., 0., 0., 0., 0., 0., 0., 0.],\n",
              "        [0., 0., 0., 0., 0., 1., 0., 0., 0., 0., 0., 0., 0., 0., 0.],\n",
              "        [0., 0., 0., 0., 0., 0., 1., 0., 0., 0., 0., 0., 0., 0., 0.],\n",
              "        [0., 0., 0., 0., 0., 0., 0., 1., 0., 0., 0., 0., 0., 0., 0.],\n",
              "        [0., 0., 0., 0., 0., 0., 0., 0., 1., 0., 0., 0., 0., 0., 0.],\n",
              "        [0., 0., 0., 0., 0., 0., 0., 0., 0., 1., 0., 0., 0., 0., 0.],\n",
              "        [0., 0., 0., 0., 0., 0., 0., 0., 0., 0., 1., 0., 0., 0., 0.],\n",
              "        [0., 0., 0., 0., 0., 0., 0., 0., 0., 0., 0., 1., 0., 0., 0.],\n",
              "        [1., 0., 0., 0., 0., 0., 0., 0., 0., 0., 0., 0., 0., 0., 0.],\n",
              "        [0., 1., 0., 0., 0., 0., 0., 0., 0., 0., 0., 0., 0., 0., 0.],\n",
              "        [0., 0., 1., 0., 0., 0., 0., 0., 0., 0., 0., 0., 0., 0., 0.],\n",
              "        [0., 0., 0., 1., 0., 0., 0., 0., 0., 0., 0., 0., 0., 0., 0.],\n",
              "        [0., 0., 0., 0., 1., 0., 0., 0., 0., 0., 0., 0., 0., 0., 0.],\n",
              "        [0., 0., 0., 0., 0., 1., 0., 0., 0., 0., 0., 0., 0., 0., 0.],\n",
              "        [0., 0., 0., 0., 0., 0., 1., 0., 0., 0., 0., 0., 0., 0., 0.],\n",
              "        [0., 0., 0., 0., 0., 0., 0., 1., 0., 0., 0., 0., 0., 0., 0.]],\n",
              "       dtype=float32)>)"
            ]
          },
          "metadata": {},
          "execution_count": 186
        }
      ]
    },
    {
      "cell_type": "code",
      "source": [
        "train_df[\"total_lines\"].value_counts()"
      ],
      "metadata": {
        "colab": {
          "base_uri": "https://localhost:8080/"
        },
        "id": "2A50dQuqmgIR",
        "outputId": "b53e4951-8c5a-408f-cfe5-58c2e36353f3"
      },
      "execution_count": null,
      "outputs": [
        {
          "output_type": "execute_result",
          "data": {
            "text/plain": [
              "11    24468\n",
              "10    23639\n",
              "12    22113\n",
              "9     19400\n",
              "13    18438\n",
              "14    14610\n",
              "8     12285\n",
              "15    10768\n",
              "7      7464\n",
              "16     7429\n",
              "17     5202\n",
              "6      3353\n",
              "18     3344\n",
              "19     2480\n",
              "20     1281\n",
              "5      1146\n",
              "21      770\n",
              "22      759\n",
              "23      264\n",
              "4       215\n",
              "24      200\n",
              "25      182\n",
              "26       81\n",
              "28       58\n",
              "3        32\n",
              "30       31\n",
              "27       28\n",
              "Name: total_lines, dtype: int64"
            ]
          },
          "metadata": {},
          "execution_count": 187
        }
      ]
    },
    {
      "cell_type": "code",
      "source": [
        "train_df.total_lines.plot.hist();"
      ],
      "metadata": {
        "colab": {
          "base_uri": "https://localhost:8080/",
          "height": 267
        },
        "id": "uKH6AfCpmhav",
        "outputId": "cd74eeb2-3c31-47cc-bf5d-bbd8f1907065"
      },
      "execution_count": null,
      "outputs": [
        {
          "output_type": "display_data",
          "data": {
            "text/plain": [
              "<Figure size 432x288 with 1 Axes>"
            ],
            "image/png": "[encoded data removed]"
          },
          "metadata": {
            "needs_background": "light"
          }
        }
      ]
    },
    {
      "cell_type": "code",
      "source": [
        "train_total_lines_one_hot = tf.one_hot(train_df[\"total_lines\"].to_numpy(), depth=20)\n",
        "val_total_lines_one_hot = tf.one_hot(val_df[\"total_lines\"].to_numpy(), depth=20)\n",
        "test_total_lines_one_hot = tf.one_hot(test_df[\"total_lines\"].to_numpy(), depth=20)\n",
        "\n",
        "train_total_lines_one_hot.shape, train_total_lines_one_hot[:10]"
      ],
      "metadata": {
        "colab": {
          "base_uri": "https://localhost:8080/"
        },
        "id": "6v45LbHumjif",
        "outputId": "76726022-e5f3-40f6-ab3d-21966b2a808f"
      },
      "execution_count": null,
      "outputs": [
        {
          "output_type": "execute_result",
          "data": {
            "text/plain": [
              "(TensorShape([180040, 20]), <tf.Tensor: shape=(10, 20), dtype=float32, numpy=\n",
              " array([[0., 0., 0., 0., 0., 0., 0., 0., 0., 0., 0., 1., 0., 0., 0., 0.,\n",
              "         0., 0., 0., 0.],\n",
              "        [0., 0., 0., 0., 0., 0., 0., 0., 0., 0., 0., 1., 0., 0., 0., 0.,\n",
              "         0., 0., 0., 0.],\n",
              "        [0., 0., 0., 0., 0., 0., 0., 0., 0., 0., 0., 1., 0., 0., 0., 0.,\n",
              "         0., 0., 0., 0.],\n",
              "        [0., 0., 0., 0., 0., 0., 0., 0., 0., 0., 0., 1., 0., 0., 0., 0.,\n",
              "         0., 0., 0., 0.],\n",
              "        [0., 0., 0., 0., 0., 0., 0., 0., 0., 0., 0., 1., 0., 0., 0., 0.,\n",
              "         0., 0., 0., 0.],\n",
              "        [0., 0., 0., 0., 0., 0., 0., 0., 0., 0., 0., 1., 0., 0., 0., 0.,\n",
              "         0., 0., 0., 0.],\n",
              "        [0., 0., 0., 0., 0., 0., 0., 0., 0., 0., 0., 1., 0., 0., 0., 0.,\n",
              "         0., 0., 0., 0.],\n",
              "        [0., 0., 0., 0., 0., 0., 0., 0., 0., 0., 0., 1., 0., 0., 0., 0.,\n",
              "         0., 0., 0., 0.],\n",
              "        [0., 0., 0., 0., 0., 0., 0., 0., 0., 0., 0., 1., 0., 0., 0., 0.,\n",
              "         0., 0., 0., 0.],\n",
              "        [0., 0., 0., 0., 0., 0., 0., 0., 0., 0., 0., 1., 0., 0., 0., 0.,\n",
              "         0., 0., 0., 0.]], dtype=float32)>)"
            ]
          },
          "metadata": {},
          "execution_count": 189
        }
      ]
    },
    {
      "cell_type": "code",
      "source": [
        "token_inputs = layers.Input(shape=[], dtype='string', name='token_inputs')\n",
        "token_embeddings = tf_hub_embedding_layer(token_inputs)\n",
        "token_outputs = layers.Dense(128, activation='relu')(token_embeddings)\n",
        "token_model = tf.keras.Model(inputs=token_inputs,\n",
        "                             outputs=token_outputs)\n",
        "\n",
        "char_inputs = layers.Input(shape=(1,), dtype='string', name='char_inputs')\n",
        "char_vectors = char_vectorizer(char_inputs)\n",
        "char_embeds = char_embed(char_vectors)\n",
        "char_outputs = layers.Bidirectional(layers.LSTM(32))(char_embeds)\n",
        "char_model = tf.keras.Model(inputs=char_inputs,\n",
        "                            outputs=char_outputs)\n",
        "\n",
        "line_numbers_input = layers.Input(shape=(15,), dtype=tf.int32, name='line_numbers_input')\n",
        "x = layers.Dense(32, activation='relu')(line_numbers_input)\n",
        "line_number_model = tf.keras.Model(inputs=line_numbers_input,\n",
        "                                   outputs=x)\n",
        "\n",
        "total_lines_inputs = layers.Input(shape=(20,), dtype=tf.int32, name='total_line_inputs')\n",
        "y = layers.Dense(32, activation='relu')(total_lines_inputs)\n",
        "total_lines_model = tf.keras.Model(inputs=total_lines_inputs,\n",
        "                                   outputs=y)\n",
        "\n",
        "combined_embeddings = layers.Concatenate(name='token_char_hybrid_embedding')([token_model.output,\n",
        "                                                                              char_model.output])\n",
        "\n",
        "z = layers.Dense(256, activation='relu')(combined_embeddings)\n",
        "z = layers.Dropout(0.5)(z)\n",
        "\n",
        "z = layers.Concatenate(name=\"token_char_positional_embedding\")([line_number_model.output,\n",
        "                                                                total_lines_model.output,\n",
        "                                                                z])\n",
        "\n",
        "output_layer = layers.Dense(num_classes, activation='softmax', name='output_layer')(z)\n",
        "\n",
        "model_5 = tf.keras.Model(inputs=[line_number_model.input,\n",
        "                                 total_lines_model.input,\n",
        "                                 token_model.input, \n",
        "                                 char_model.input],\n",
        "                         outputs=output_layer)"
      ],
      "metadata": {
        "id": "g5ympBL0m7bw"
      },
      "execution_count": null,
      "outputs": []
    },
    {
      "cell_type": "code",
      "source": [
        "model_5.summary()"
      ],
      "metadata": {
        "colab": {
          "base_uri": "https://localhost:8080/"
        },
        "id": "a0GPctB_qqXV",
        "outputId": "0228603d-05c3-47a5-a19b-0903c5880112"
      },
      "execution_count": null,
      "outputs": [
        {
          "output_type": "stream",
          "name": "stdout",
          "text": [
            "Model: \"model_23\"\n",
            "__________________________________________________________________________________________________\n",
            " Layer (type)                   Output Shape         Param #     Connected to                     \n",
            "==================================================================================================\n",
            " char_inputs (InputLayer)       [(None, 1)]          0           []                               \n",
            "                                                                                                  \n",
            " token_inputs (InputLayer)      [(None,)]            0           []                               \n",
            "                                                                                                  \n",
            " char_vectorizer (TextVectoriza  (None, 290)         0           ['char_inputs[0][0]']            \n",
            " tion)                                                                                            \n",
            "                                                                                                  \n",
            " universal_sentence_encoder (Ke  (None, 512)         256797824   ['token_inputs[0][0]']           \n",
            " rasLayer)                                                                                        \n",
            "                                                                                                  \n",
            " char_embed (Embedding)         (None, 290, 25)      1750        ['char_vectorizer[3][0]']        \n",
            "                                                                                                  \n",
            " dense_26 (Dense)               (None, 128)          65664       ['universal_sentence_encoder[3][0\n",
            "                                                                 ]']                              \n",
            "                                                                                                  \n",
            " bidirectional_3 (Bidirectional  (None, 64)          14848       ['char_embed[2][0]']             \n",
            " )                                                                                                \n",
            "                                                                                                  \n",
            " token_char_hybrid_embedding (C  (None, 192)         0           ['dense_26[0][0]',               \n",
            " oncatenate)                                                      'bidirectional_3[0][0]']        \n",
            "                                                                                                  \n",
            " line_numbers_input (InputLayer  [(None, 15)]        0           []                               \n",
            " )                                                                                                \n",
            "                                                                                                  \n",
            " total_line_inputs (InputLayer)  [(None, 20)]        0           []                               \n",
            "                                                                                                  \n",
            " dense_29 (Dense)               (None, 256)          49408       ['token_char_hybrid_embedding[0][\n",
            "                                                                 0]']                             \n",
            "                                                                                                  \n",
            " dense_27 (Dense)               (None, 32)           512         ['line_numbers_input[0][0]']     \n",
            "                                                                                                  \n",
            " dense_28 (Dense)               (None, 32)           672         ['total_line_inputs[0][0]']      \n",
            "                                                                                                  \n",
            " dropout_6 (Dropout)            (None, 256)          0           ['dense_29[0][0]']               \n",
            "                                                                                                  \n",
            " token_char_positional_embeddin  (None, 320)         0           ['dense_27[0][0]',               \n",
            " g (Concatenate)                                                  'dense_28[0][0]',               \n",
            "                                                                  'dropout_6[0][0]']              \n",
            "                                                                                                  \n",
            " output_layer (Dense)           (None, 5)            1605        ['token_char_positional_embedding\n",
            "                                                                 [0][0]']                         \n",
            "                                                                                                  \n",
            "==================================================================================================\n",
            "Total params: 256,932,283\n",
            "Trainable params: 134,459\n",
            "Non-trainable params: 256,797,824\n",
            "__________________________________________________________________________________________________\n"
          ]
        }
      ]
    },
    {
      "cell_type": "code",
      "source": [
        "plot_model(model_5)"
      ],
      "metadata": {
        "colab": {
          "base_uri": "https://localhost:8080/",
          "height": 856
        },
        "id": "IKih-exUqxWU",
        "outputId": "ac74e23e-1f70-46ca-e8c9-9cb5590ed738"
      },
      "execution_count": null,
      "outputs": [
        {
          "output_type": "execute_result",
          "data": {
            "text/plain": [
              "<IPython.core.display.Image object>"
            ],
            "image/png": "[encoded data removed]"
          },
          "metadata": {},
          "execution_count": 194
        }
      ]
    },
    {
      "cell_type": "code",
      "source": [
        "for layer in model_5.layers:\n",
        "  print(layer, layer.trainable)"
      ],
      "metadata": {
        "colab": {
          "base_uri": "https://localhost:8080/"
        },
        "id": "HZOhO7E8rDOu",
        "outputId": "692059af-4370-490c-a90d-59799710fd78"
      },
      "execution_count": null,
      "outputs": [
        {
          "output_type": "stream",
          "name": "stdout",
          "text": [
            "<keras.engine.input_layer.InputLayer object at 0x7f25b24b9dd0> True\n",
            "<keras.engine.input_layer.InputLayer object at 0x7f25b2461f10> True\n",
            "<keras.layers.preprocessing.text_vectorization.TextVectorization object at 0x7f25b108bb50> True\n",
            "<tensorflow_hub.keras_layer.KerasLayer object at 0x7f269ec6d690> False\n",
            "<keras.layers.embeddings.Embedding object at 0x7f25b10ad390> True\n",
            "<keras.layers.core.dense.Dense object at 0x7f25b2461fd0> True\n",
            "<keras.layers.wrappers.Bidirectional object at 0x7f25b2439510> True\n",
            "<keras.layers.merge.Concatenate object at 0x7f25b2e2e510> True\n",
            "<keras.engine.input_layer.InputLayer object at 0x7f25b23c1290> True\n",
            "<keras.engine.input_layer.InputLayer object at 0x7f25b247e610> True\n",
            "<keras.layers.core.dense.Dense object at 0x7f25b23cd0d0> True\n",
            "<keras.layers.core.dense.Dense object at 0x7f25b23b4910> True\n",
            "<keras.layers.core.dense.Dense object at 0x7f25b243de90> True\n",
            "<keras.layers.core.dropout.Dropout object at 0x7f25b2374190> True\n",
            "<keras.layers.merge.Concatenate object at 0x7f25b23bb850> True\n",
            "<keras.layers.core.dense.Dense object at 0x7f25b22d4350> True\n"
          ]
        }
      ]
    },
    {
      "cell_type": "code",
      "source": [
        "model_5.compile(loss=tf.keras.losses.CategoricalCrossentropy(label_smoothing=0.2),\n",
        "                optimizer=tf.keras.optimizers.Adam(),\n",
        "                metrics=['accuracy'])"
      ],
      "metadata": {
        "id": "b9DDEwqyrT3X"
      },
      "execution_count": null,
      "outputs": []
    },
    {
      "cell_type": "code",
      "source": [
        "train_pos_char_token_data = tf.data.Dataset.from_tensor_slices((train_line_numbers_one_hot,\n",
        "                                                                train_total_lines_one_hot, \n",
        "                                                                train_sentences,\n",
        "                                                                train_chars)) \n",
        "train_pos_char_token_labels = tf.data.Dataset.from_tensor_slices(train_labels_one_hot)\n",
        "train_pos_char_token_dataset = tf.data.Dataset.zip((train_pos_char_token_data, train_pos_char_token_labels)) \n",
        "train_pos_char_token_dataset = train_pos_char_token_dataset.batch(32).prefetch(tf.data.AUTOTUNE)\n",
        "\n",
        "val_pos_char_token_data = tf.data.Dataset.from_tensor_slices((val_line_numbers_one_hot,\n",
        "                                                              val_total_lines_one_hot,\n",
        "                                                              val_sentences,\n",
        "                                                              val_chars))\n",
        "val_pos_char_token_labels = tf.data.Dataset.from_tensor_slices(val_labels_one_hot)\n",
        "val_pos_char_token_dataset = tf.data.Dataset.zip((val_pos_char_token_data, val_pos_char_token_labels))\n",
        "val_pos_char_token_dataset = val_pos_char_token_dataset.batch(32).prefetch(tf.data.AUTOTUNE)\n",
        "\n",
        "train_pos_char_token_dataset, val_pos_char_token_dataset"
      ],
      "metadata": {
        "colab": {
          "base_uri": "https://localhost:8080/"
        },
        "id": "V5BsGM10r11C",
        "outputId": "398201c2-bdff-4e4f-bb18-27f675e90ee4"
      },
      "execution_count": null,
      "outputs": [
        {
          "output_type": "execute_result",
          "data": {
            "text/plain": [
              "(<PrefetchDataset element_spec=((TensorSpec(shape=(None, 15), dtype=tf.float32, name=None), TensorSpec(shape=(None, 20), dtype=tf.float32, name=None), TensorSpec(shape=(None,), dtype=tf.string, name=None), TensorSpec(shape=(None,), dtype=tf.string, name=None)), TensorSpec(shape=(None, 5), dtype=tf.float64, name=None))>,\n",
              " <PrefetchDataset element_spec=((TensorSpec(shape=(None, 15), dtype=tf.float32, name=None), TensorSpec(shape=(None, 20), dtype=tf.float32, name=None), TensorSpec(shape=(None,), dtype=tf.string, name=None), TensorSpec(shape=(None,), dtype=tf.string, name=None)), TensorSpec(shape=(None, 5), dtype=tf.float64, name=None))>)"
            ]
          },
          "metadata": {},
          "execution_count": 198
        }
      ]
    },
    {
      "cell_type": "code",
      "source": [
        "history_model_5 = model_5.fit(train_pos_char_token_dataset,\n",
        "                              steps_per_epoch=int(0.1 * len(train_pos_char_token_dataset)),\n",
        "                              epochs=3,\n",
        "                              validation_data=val_pos_char_token_dataset,\n",
        "                              validation_steps=int(0.1 * len(val_pos_char_token_dataset)))"
      ],
      "metadata": {
        "colab": {
          "base_uri": "https://localhost:8080/"
        },
        "id": "O9SM39KdsGUU",
        "outputId": "7e93c98c-79c7-49a6-ad97-42a14e7ce610"
      },
      "execution_count": null,
      "outputs": [
        {
          "output_type": "stream",
          "name": "stdout",
          "text": [
            "Epoch 1/3\n",
            "562/562 [==============================] - 26s 36ms/step - loss: 1.0945 - accuracy: 0.7257 - val_loss: 0.9808 - val_accuracy: 0.8082\n",
            "Epoch 2/3\n",
            "562/562 [==============================] - 19s 34ms/step - loss: 0.9658 - accuracy: 0.8157 - val_loss: 0.9477 - val_accuracy: 0.8295\n",
            "Epoch 3/3\n",
            "562/562 [==============================] - 19s 34ms/step - loss: 0.9498 - accuracy: 0.8237 - val_loss: 0.9410 - val_accuracy: 0.8281\n"
          ]
        }
      ]
    },
    {
      "cell_type": "code",
      "source": [
        "model_5_pred_probs = model_5.predict(val_pos_char_token_dataset)\n",
        "model_5_preds = tf.argmax(model_5_pred_probs, axis=1)\n",
        "\n",
        "model_5_results = calculate_results(val_labels_encoded, model_5_preds)\n",
        "model_5_results"
      ],
      "metadata": {
        "colab": {
          "base_uri": "https://localhost:8080/"
        },
        "id": "ZSB5hptesS-7",
        "outputId": "f2ccc31d-3a47-4b43-93a9-b2329739b2fb"
      },
      "execution_count": null,
      "outputs": [
        {
          "output_type": "execute_result",
          "data": {
            "text/plain": [
              "{'accuracy': 83.19541903879252,\n",
              " 'f1': 0.8310012090563061,\n",
              " 'precision': 0.8309887979607294,\n",
              " 'recall': 0.8319541903879253}"
            ]
          },
          "metadata": {},
          "execution_count": 200
        }
      ]
    },
    {
      "cell_type": "markdown",
      "source": [
        "## Compare model results"
      ],
      "metadata": {
        "id": "Q7-9Ac4ktCen"
      }
    },
    {
      "cell_type": "code",
      "source": [
        "all_model_results = pd.DataFrame({'baseline':baseline_results,\n",
        "                                  'custom_token_embed_conv1d': model_1_results,\n",
        "                                  'pretrained_token_embed': model_2_results,\n",
        "                                  'custom_char_embed_conv1d': model_3_results,\n",
        "                                  'hybrid_char_token_embed': model_4_results,\n",
        "                                  'tribrid_pos_char_token_embed': model_5_results})\n",
        "all_model_results = all_model_results.transpose()\n",
        "all_model_results"
      ],
      "metadata": {
        "colab": {
          "base_uri": "https://localhost:8080/",
          "height": 238
        },
        "id": "HB-MA81YtEhg",
        "outputId": "cdd8eaf0-9d8e-4135-d8ba-033d7a2a50d1"
      },
      "execution_count": null,
      "outputs": [
        {
          "output_type": "execute_result",
          "data": {
            "text/plain": [
              "                               accuracy  precision    recall        f1\n",
              "baseline                      72.183238   0.718647  0.721832  0.698925\n",
              "custom_token_embed_conv1d     78.442341   0.780811  0.784423  0.781696\n",
              "pretrained_token_embed        73.970608   0.742555  0.739706  0.740458\n",
              "custom_char_embed_conv1d      49.596187   0.453911  0.495962  0.454424\n",
              "hybrid_char_token_embed       76.284258   0.761668  0.762843  0.759026\n",
              "tribrid_pos_char_token_embed  83.195419   0.830989  0.831954  0.831001"
            ],
            "text/html": [
              "\n",
              "  <div id=\"df-6feaf59f-b8b3-4254-98c2-13cc70e9cf75\">\n",
              "    <div class=\"colab-df-container\">\n",
              "      <div>\n",
              "<style scoped>\n",
              "    .dataframe tbody tr th:only-of-type {\n",
              "        vertical-align: middle;\n",
              "    }\n",
              "\n",
              "    .dataframe tbody tr th {\n",
              "        vertical-align: top;\n",
              "    }\n",
              "\n",
              "    .dataframe thead th {\n",
              "        text-align: right;\n",
              "    }\n",
              "</style>\n",
              "<table border=\"1\" class=\"dataframe\">\n",
              "  <thead>\n",
              "    <tr style=\"text-align: right;\">\n",
              "      <th></th>\n",
              "      <th>accuracy</th>\n",
              "      <th>precision</th>\n",
              "      <th>recall</th>\n",
              "      <th>f1</th>\n",
              "    </tr>\n",
              "  </thead>\n",
              "  <tbody>\n",
              "    <tr>\n",
              "      <th>baseline</th>\n",
              "      <td>72.183238</td>\n",
              "      <td>0.718647</td>\n",
              "      <td>0.721832</td>\n",
              "      <td>0.698925</td>\n",
              "    </tr>\n",
              "    <tr>\n",
              "      <th>custom_token_embed_conv1d</th>\n",
              "      <td>78.442341</td>\n",
              "      <td>0.780811</td>\n",
              "      <td>0.784423</td>\n",
              "      <td>0.781696</td>\n",
              "    </tr>\n",
              "    <tr>\n",
              "      <th>pretrained_token_embed</th>\n",
              "      <td>73.970608</td>\n",
              "      <td>0.742555</td>\n",
              "      <td>0.739706</td>\n",
              "      <td>0.740458</td>\n",
              "    </tr>\n",
              "    <tr>\n",
              "      <th>custom_char_embed_conv1d</th>\n",
              "      <td>49.596187</td>\n",
              "      <td>0.453911</td>\n",
              "      <td>0.495962</td>\n",
              "      <td>0.454424</td>\n",
              "    </tr>\n",
              "    <tr>\n",
              "      <th>hybrid_char_token_embed</th>\n",
              "      <td>76.284258</td>\n",
              "      <td>0.761668</td>\n",
              "      <td>0.762843</td>\n",
              "      <td>0.759026</td>\n",
              "    </tr>\n",
              "    <tr>\n",
              "      <th>tribrid_pos_char_token_embed</th>\n",
              "      <td>83.195419</td>\n",
              "      <td>0.830989</td>\n",
              "      <td>0.831954</td>\n",
              "      <td>0.831001</td>\n",
              "    </tr>\n",
              "  </tbody>\n",
              "</table>\n",
              "</div>\n",
              "      <button class=\"colab-df-convert\" onclick=\"convertToInteractive('df-6feaf59f-b8b3-4254-98c2-13cc70e9cf75')\"\n",
              "              title=\"Convert this dataframe to an interactive table.\"\n",
              "              style=\"display:none;\">\n",
              "        \n",
              "  <svg xmlns=\"http://www.w3.org/2000/svg\" height=\"24px\"viewBox=\"0 0 24 24\"\n",
              "       width=\"24px\">\n",
              "    <path d=\"M0 0h24v24H0V0z\" fill=\"none\"/>\n",
              "    <path d=\"M18.56 5.44l.94 2.06.94-2.06 2.06-.94-2.06-.94-.94-2.06-.94 2.06-2.06.94zm-11 1L8.5 8.5l.94-2.06 2.06-.94-2.06-.94L8.5 2.5l-.94 2.06-2.06.94zm10 10l.94 2.06.94-2.06 2.06-.94-2.06-.94-.94-2.06-.94 2.06-2.06.94z\"/><path d=\"M17.41 7.96l-1.37-1.37c-.4-.4-.92-.59-1.43-.59-.52 0-1.04.2-1.43.59L10.3 9.45l-7.72 7.72c-.78.78-.78 2.05 0 2.83L4 21.41c.39.39.9.59 1.41.59.51 0 1.02-.2 1.41-.59l7.78-7.78 2.81-2.81c.8-.78.8-2.07 0-2.86zM5.41 20L4 18.59l7.72-7.72 1.47 1.35L5.41 20z\"/>\n",
              "  </svg>\n",
              "      </button>\n",
              "      \n",
              "  <style>\n",
              "    .colab-df-container {\n",
              "      display:flex;\n",
              "      flex-wrap:wrap;\n",
              "      gap: 12px;\n",
              "    }\n",
              "\n",
              "    .colab-df-convert {\n",
              "      background-color: #E8F0FE;\n",
              "      border: none;\n",
              "      border-radius: 50%;\n",
              "      cursor: pointer;\n",
              "      display: none;\n",
              "      fill: #1967D2;\n",
              "      height: 32px;\n",
              "      padding: 0 0 0 0;\n",
              "      width: 32px;\n",
              "    }\n",
              "\n",
              "    .colab-df-convert:hover {\n",
              "      background-color: #E2EBFA;\n",
              "      box-shadow: 0px 1px 2px rgba(60, 64, 67, 0.3), 0px 1px 3px 1px rgba(60, 64, 67, 0.15);\n",
              "      fill: #174EA6;\n",
              "    }\n",
              "\n",
              "    [theme=dark] .colab-df-convert {\n",
              "      background-color: #3B4455;\n",
              "      fill: #D2E3FC;\n",
              "    }\n",
              "\n",
              "    [theme=dark] .colab-df-convert:hover {\n",
              "      background-color: #434B5C;\n",
              "      box-shadow: 0px 1px 3px 1px rgba(0, 0, 0, 0.15);\n",
              "      filter: drop-shadow(0px 1px 2px rgba(0, 0, 0, 0.3));\n",
              "      fill: #FFFFFF;\n",
              "    }\n",
              "  </style>\n",
              "\n",
              "      <script>\n",
              "        const buttonEl =\n",
              "          document.querySelector('#df-6feaf59f-b8b3-4254-98c2-13cc70e9cf75 button.colab-df-convert');\n",
              "        buttonEl.style.display =\n",
              "          google.colab.kernel.accessAllowed ? 'block' : 'none';\n",
              "\n",
              "        async function convertToInteractive(key) {\n",
              "          const element = document.querySelector('#df-6feaf59f-b8b3-4254-98c2-13cc70e9cf75');\n",
              "          const dataTable =\n",
              "            await google.colab.kernel.invokeFunction('convertToInteractive',\n",
              "                                                     [key], {});\n",
              "          if (!dataTable) return;\n",
              "\n",
              "          const docLinkHtml = 'Like what you see? Visit the ' +\n",
              "            '<a target=\"_blank\" href=https://colab.research.google.com/notebooks/data_table.ipynb>data table notebook</a>'\n",
              "            + ' to learn more about interactive tables.';\n",
              "          element.innerHTML = '';\n",
              "          dataTable['output_type'] = 'display_data';\n",
              "          await google.colab.output.renderOutput(dataTable, element);\n",
              "          const docLink = document.createElement('div');\n",
              "          docLink.innerHTML = docLinkHtml;\n",
              "          element.appendChild(docLink);\n",
              "        }\n",
              "      </script>\n",
              "    </div>\n",
              "  </div>\n",
              "  "
            ]
          },
          "metadata": {},
          "execution_count": 205
        }
      ]
    },
    {
      "cell_type": "code",
      "source": [
        "all_model_results['accuracy'] = all_model_results['accuracy']/100"
      ],
      "metadata": {
        "id": "fRIIWuMPuP5T"
      },
      "execution_count": null,
      "outputs": []
    },
    {
      "cell_type": "code",
      "source": [
        "all_model_results.plot(kind='bar', figsize=(10,7)).legend(bbox_to_anchor=(1.0, 1.0));"
      ],
      "metadata": {
        "colab": {
          "base_uri": "https://localhost:8080/",
          "height": 571
        },
        "id": "BkV-8ea-t0Xx",
        "outputId": "ca47e254-77ad-4a88-e0e9-b2f609b8ee79"
      },
      "execution_count": null,
      "outputs": [
        {
          "output_type": "display_data",
          "data": {
            "text/plain": [
              "<Figure size 720x504 with 1 Axes>"
            ],
            "image/png": "[encoded data removed]"
          },
          "metadata": {
            "needs_background": "light"
          }
        }
      ]
    },
    {
      "cell_type": "code",
      "source": [
        "all_model_results.sort_values('f1', ascending=False)['f1'].plot(kind='bar', figsize=(10,7));"
      ],
      "metadata": {
        "colab": {
          "base_uri": "https://localhost:8080/",
          "height": 571
        },
        "id": "NZISv1EUuVhb",
        "outputId": "d94edcb5-e4da-4fca-d72c-fc09f52bed40"
      },
      "execution_count": null,
      "outputs": [
        {
          "output_type": "display_data",
          "data": {
            "text/plain": [
              "<Figure size 720x504 with 1 Axes>"
            ],
            "image/png": "[encoded data removed]"
          },
          "metadata": {
            "needs_background": "light"
          }
        }
      ]
    },
    {
      "cell_type": "markdown",
      "source": [
        "## Save and load best model"
      ],
      "metadata": {
        "id": "4IBgTi1Uu7Wc"
      }
    },
    {
      "cell_type": "code",
      "source": [
        "model_5.save('skimlit_tribrid_model')"
      ],
      "metadata": {
        "colab": {
          "base_uri": "https://localhost:8080/"
        },
        "id": "e5CqXtuCu7K-",
        "outputId": "11732fc5-c785-401b-bd04-34d377ea4ca4"
      },
      "execution_count": null,
      "outputs": [
        {
          "output_type": "stream",
          "name": "stderr",
          "text": [
            "WARNING:absl:Found untraced functions such as lstm_cell_10_layer_call_fn, lstm_cell_10_layer_call_and_return_conditional_losses, lstm_cell_11_layer_call_fn, lstm_cell_11_layer_call_and_return_conditional_losses while saving (showing 4 of 4). These functions will not be directly callable after loading.\n"
          ]
        },
        {
          "output_type": "stream",
          "name": "stdout",
          "text": [
            "INFO:tensorflow:Assets written to: skimlit_tribrid_model/assets\n"
          ]
        },
        {
          "output_type": "stream",
          "name": "stderr",
          "text": [
            "INFO:tensorflow:Assets written to: skimlit_tribrid_model/assets\n",
            "WARNING:absl:<keras.layers.recurrent.LSTMCell object at 0x7f27b9403f10> has the same name 'LSTMCell' as a built-in Keras object. Consider renaming <class 'keras.layers.recurrent.LSTMCell'> to avoid naming conflicts when loading with `tf.keras.models.load_model`. If renaming is not possible, pass the object in the `custom_objects` parameter of the load function.\n",
            "WARNING:absl:<keras.layers.recurrent.LSTMCell object at 0x7f25b2439410> has the same name 'LSTMCell' as a built-in Keras object. Consider renaming <class 'keras.layers.recurrent.LSTMCell'> to avoid naming conflicts when loading with `tf.keras.models.load_model`. If renaming is not possible, pass the object in the `custom_objects` parameter of the load function.\n"
          ]
        }
      ]
    },
    {
      "cell_type": "code",
      "source": [
        "loaded_model = tf.keras.models.load_model('skimlit_tribrid_model')"
      ],
      "metadata": {
        "id": "JFm2skBVvKB4"
      },
      "execution_count": null,
      "outputs": []
    },
    {
      "cell_type": "code",
      "source": [
        "loaded_model_pred_probs = loaded_model.predict(val_pos_char_token_dataset)\n",
        "loaded_model_preds = tf.argmax(loaded_model_pred_probs, axis=1)\n",
        "\n",
        "loaded_model_results = calculate_results(val_labels_encoded, loaded_model_preds)\n",
        "loaded_model_results"
      ],
      "metadata": {
        "colab": {
          "base_uri": "https://localhost:8080/"
        },
        "id": "H68k9iL1vO9l",
        "outputId": "37639153-9053-47bb-8174-2c1608463d5d"
      },
      "execution_count": null,
      "outputs": [
        {
          "output_type": "execute_result",
          "data": {
            "text/plain": [
              "{'accuracy': 83.19541903879252,\n",
              " 'f1': 0.8310012090563061,\n",
              " 'precision': 0.8309887979607294,\n",
              " 'recall': 0.8319541903879253}"
            ]
          },
          "metadata": {},
          "execution_count": 212
        }
      ]
    },
    {
      "cell_type": "code",
      "source": [
        "model_5_results"
      ],
      "metadata": {
        "colab": {
          "base_uri": "https://localhost:8080/"
        },
        "id": "0uuNCpUtvwiP",
        "outputId": "d32fbe61-512c-431c-ecba-4465394670f1"
      },
      "execution_count": null,
      "outputs": [
        {
          "output_type": "execute_result",
          "data": {
            "text/plain": [
              "{'accuracy': 83.19541903879252,\n",
              " 'f1': 0.8310012090563061,\n",
              " 'precision': 0.8309887979607294,\n",
              " 'recall': 0.8319541903879253}"
            ]
          },
          "metadata": {},
          "execution_count": 213
        }
      ]
    },
    {
      "cell_type": "markdown",
      "source": [
        "## Evaluate model on test dataset"
      ],
      "metadata": {
        "id": "YGHhkdlGv32_"
      }
    },
    {
      "cell_type": "code",
      "source": [
        "test_pos_char_token_data = tf.data.Dataset.from_tensor_slices((test_line_numbers_one_hot,\n",
        "                                                               test_total_lines_one_hot,\n",
        "                                                               test_sentences,\n",
        "                                                               test_chars))\n",
        "test_pos_char_token_labels = tf.data.Dataset.from_tensor_slices(test_labels_one_hot)\n",
        "test_pos_char_token_dataset = tf.data.Dataset.zip((test_pos_char_token_data, test_pos_char_token_labels))\n",
        "test_pos_char_token_dataset = test_pos_char_token_dataset.batch(32).prefetch(tf.data.AUTOTUNE)\n",
        "\n",
        "test_pos_char_token_dataset"
      ],
      "metadata": {
        "colab": {
          "base_uri": "https://localhost:8080/"
        },
        "id": "yJKbwYE2v0zx",
        "outputId": "eac97ef5-6884-4bb0-986e-6e3fc4fcfa2d"
      },
      "execution_count": null,
      "outputs": [
        {
          "output_type": "execute_result",
          "data": {
            "text/plain": [
              "<PrefetchDataset element_spec=((TensorSpec(shape=(None, 15), dtype=tf.float32, name=None), TensorSpec(shape=(None, 20), dtype=tf.float32, name=None), TensorSpec(shape=(None,), dtype=tf.string, name=None), TensorSpec(shape=(None,), dtype=tf.string, name=None)), TensorSpec(shape=(None, 5), dtype=tf.float64, name=None))>"
            ]
          },
          "metadata": {},
          "execution_count": 214
        }
      ]
    },
    {
      "cell_type": "code",
      "source": [
        "test_pred_probs = loaded_model.predict(test_pos_char_token_dataset)\n",
        "test_preds = tf.argmax(test_pred_probs, axis=1)\n",
        "\n",
        "test_results = calculate_results(test_labels_encoded, test_preds)\n",
        "test_results"
      ],
      "metadata": {
        "colab": {
          "base_uri": "https://localhost:8080/"
        },
        "id": "cF5ibtTUwA_r",
        "outputId": "cfdb1579-7f5a-4086-9c67-56d45a95441b"
      },
      "execution_count": null,
      "outputs": [
        {
          "output_type": "execute_result",
          "data": {
            "text/plain": [
              "{'accuracy': 82.86377965820475,\n",
              " 'f1': 0.8276216395750322,\n",
              " 'precision': 0.8275027334135786,\n",
              " 'recall': 0.8286377965820475}"
            ]
          },
          "metadata": {},
          "execution_count": 215
        }
      ]
    }
  ]
}